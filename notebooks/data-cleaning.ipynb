{
 "cells": [
  {
   "cell_type": "markdown",
   "id": "1e43e5a7-43cc-4ea1-a630-b868cb3442ed",
   "metadata": {},
   "source": [
    "## 1. Importing Libraries"
   ]
  },
  {
   "cell_type": "code",
   "execution_count": 128,
   "id": "2e1429ef-8691-47d1-82a8-9a2b9e02a5a7",
   "metadata": {},
   "outputs": [],
   "source": [
    "import os\n",
    "\n",
    "import numpy as np\n",
    "\n",
    "import pandas as pd\n",
    "\n",
    "from sklearn.model_selection import train_test_split"
   ]
  },
  {
   "cell_type": "markdown",
   "id": "03d09273-edf0-4699-97ee-ae6bb72953b2",
   "metadata": {},
   "source": [
    "## 2. Read the data"
   ]
  },
  {
   "cell_type": "code",
   "execution_count": 129,
   "id": "6c3ff764-79ee-41df-a66c-500633eb5aa7",
   "metadata": {},
   "outputs": [],
   "source": [
    "RAW_DATA_DIR = r'..\\data\\raw'\n",
    "PRO_DATA_DIR = r'..\\data\\processed'"
   ]
  },
  {
   "cell_type": "code",
   "execution_count": 130,
   "id": "8900040e-b0bd-40d6-8ed9-1c2f7a8ec4bb",
   "metadata": {},
   "outputs": [],
   "source": [
    "def get_data(file_name):\n",
    "    file_name_w_ext = f'{file_name}.csv'\n",
    "    file_path = os.path.join(RAW_DATA_DIR, file_name_w_ext)\n",
    "    return pd.read_csv(file_path)"
   ]
  },
  {
   "cell_type": "code",
   "execution_count": 131,
   "id": "4677fc17-12c8-47f2-b32c-5dfcb977f0ca",
   "metadata": {},
   "outputs": [
    {
     "data": {
      "text/html": [
       "<div>\n",
       "<style scoped>\n",
       "    .dataframe tbody tr th:only-of-type {\n",
       "        vertical-align: middle;\n",
       "    }\n",
       "\n",
       "    .dataframe tbody tr th {\n",
       "        vertical-align: top;\n",
       "    }\n",
       "\n",
       "    .dataframe thead th {\n",
       "        text-align: right;\n",
       "    }\n",
       "</style>\n",
       "<table border=\"1\" class=\"dataframe\">\n",
       "  <thead>\n",
       "    <tr style=\"text-align: right;\">\n",
       "      <th></th>\n",
       "      <th>id</th>\n",
       "      <th>name</th>\n",
       "      <th>host_id</th>\n",
       "      <th>host_name</th>\n",
       "      <th>neighbourhood_group</th>\n",
       "      <th>neighbourhood</th>\n",
       "      <th>latitude</th>\n",
       "      <th>longitude</th>\n",
       "      <th>room_type</th>\n",
       "      <th>price</th>\n",
       "      <th>minimum_nights</th>\n",
       "      <th>number_of_reviews</th>\n",
       "      <th>last_review</th>\n",
       "      <th>reviews_per_month</th>\n",
       "      <th>calculated_host_listings_count</th>\n",
       "      <th>availability_365</th>\n",
       "    </tr>\n",
       "  </thead>\n",
       "  <tbody>\n",
       "    <tr>\n",
       "      <th>0</th>\n",
       "      <td>2539</td>\n",
       "      <td>Clean &amp; quiet apt home by the park</td>\n",
       "      <td>2787</td>\n",
       "      <td>John</td>\n",
       "      <td>Brooklyn</td>\n",
       "      <td>Kensington</td>\n",
       "      <td>40.64749</td>\n",
       "      <td>-73.97237</td>\n",
       "      <td>Private room</td>\n",
       "      <td>149</td>\n",
       "      <td>1</td>\n",
       "      <td>9</td>\n",
       "      <td>2018-10-19</td>\n",
       "      <td>0.21</td>\n",
       "      <td>6</td>\n",
       "      <td>365</td>\n",
       "    </tr>\n",
       "    <tr>\n",
       "      <th>1</th>\n",
       "      <td>2595</td>\n",
       "      <td>Skylit Midtown Castle</td>\n",
       "      <td>2845</td>\n",
       "      <td>Jennifer</td>\n",
       "      <td>Manhattan</td>\n",
       "      <td>Midtown</td>\n",
       "      <td>40.75362</td>\n",
       "      <td>-73.98377</td>\n",
       "      <td>Entire home/apt</td>\n",
       "      <td>225</td>\n",
       "      <td>1</td>\n",
       "      <td>45</td>\n",
       "      <td>2019-05-21</td>\n",
       "      <td>0.38</td>\n",
       "      <td>2</td>\n",
       "      <td>355</td>\n",
       "    </tr>\n",
       "    <tr>\n",
       "      <th>2</th>\n",
       "      <td>3647</td>\n",
       "      <td>THE VILLAGE OF HARLEM....NEW YORK !</td>\n",
       "      <td>4632</td>\n",
       "      <td>Elisabeth</td>\n",
       "      <td>Manhattan</td>\n",
       "      <td>Harlem</td>\n",
       "      <td>40.80902</td>\n",
       "      <td>-73.94190</td>\n",
       "      <td>Private room</td>\n",
       "      <td>150</td>\n",
       "      <td>3</td>\n",
       "      <td>0</td>\n",
       "      <td>NaN</td>\n",
       "      <td>NaN</td>\n",
       "      <td>1</td>\n",
       "      <td>365</td>\n",
       "    </tr>\n",
       "    <tr>\n",
       "      <th>3</th>\n",
       "      <td>3831</td>\n",
       "      <td>Cozy Entire Floor of Brownstone</td>\n",
       "      <td>4869</td>\n",
       "      <td>LisaRoxanne</td>\n",
       "      <td>Brooklyn</td>\n",
       "      <td>Clinton Hill</td>\n",
       "      <td>40.68514</td>\n",
       "      <td>-73.95976</td>\n",
       "      <td>Entire home/apt</td>\n",
       "      <td>89</td>\n",
       "      <td>1</td>\n",
       "      <td>270</td>\n",
       "      <td>2019-07-05</td>\n",
       "      <td>4.64</td>\n",
       "      <td>1</td>\n",
       "      <td>194</td>\n",
       "    </tr>\n",
       "    <tr>\n",
       "      <th>4</th>\n",
       "      <td>5022</td>\n",
       "      <td>Entire Apt: Spacious Studio/Loft by central park</td>\n",
       "      <td>7192</td>\n",
       "      <td>Laura</td>\n",
       "      <td>Manhattan</td>\n",
       "      <td>East Harlem</td>\n",
       "      <td>40.79851</td>\n",
       "      <td>-73.94399</td>\n",
       "      <td>Entire home/apt</td>\n",
       "      <td>80</td>\n",
       "      <td>10</td>\n",
       "      <td>9</td>\n",
       "      <td>2018-11-19</td>\n",
       "      <td>0.10</td>\n",
       "      <td>1</td>\n",
       "      <td>0</td>\n",
       "    </tr>\n",
       "    <tr>\n",
       "      <th>...</th>\n",
       "      <td>...</td>\n",
       "      <td>...</td>\n",
       "      <td>...</td>\n",
       "      <td>...</td>\n",
       "      <td>...</td>\n",
       "      <td>...</td>\n",
       "      <td>...</td>\n",
       "      <td>...</td>\n",
       "      <td>...</td>\n",
       "      <td>...</td>\n",
       "      <td>...</td>\n",
       "      <td>...</td>\n",
       "      <td>...</td>\n",
       "      <td>...</td>\n",
       "      <td>...</td>\n",
       "      <td>...</td>\n",
       "    </tr>\n",
       "    <tr>\n",
       "      <th>48890</th>\n",
       "      <td>36484665</td>\n",
       "      <td>Charming one bedroom - newly renovated rowhouse</td>\n",
       "      <td>8232441</td>\n",
       "      <td>Sabrina</td>\n",
       "      <td>Brooklyn</td>\n",
       "      <td>Bedford-Stuyvesant</td>\n",
       "      <td>40.67853</td>\n",
       "      <td>-73.94995</td>\n",
       "      <td>Private room</td>\n",
       "      <td>70</td>\n",
       "      <td>2</td>\n",
       "      <td>0</td>\n",
       "      <td>NaN</td>\n",
       "      <td>NaN</td>\n",
       "      <td>2</td>\n",
       "      <td>9</td>\n",
       "    </tr>\n",
       "    <tr>\n",
       "      <th>48891</th>\n",
       "      <td>36485057</td>\n",
       "      <td>Affordable room in Bushwick/East Williamsburg</td>\n",
       "      <td>6570630</td>\n",
       "      <td>Marisol</td>\n",
       "      <td>Brooklyn</td>\n",
       "      <td>Bushwick</td>\n",
       "      <td>40.70184</td>\n",
       "      <td>-73.93317</td>\n",
       "      <td>Private room</td>\n",
       "      <td>40</td>\n",
       "      <td>4</td>\n",
       "      <td>0</td>\n",
       "      <td>NaN</td>\n",
       "      <td>NaN</td>\n",
       "      <td>2</td>\n",
       "      <td>36</td>\n",
       "    </tr>\n",
       "    <tr>\n",
       "      <th>48892</th>\n",
       "      <td>36485431</td>\n",
       "      <td>Sunny Studio at Historical Neighborhood</td>\n",
       "      <td>23492952</td>\n",
       "      <td>Ilgar &amp; Aysel</td>\n",
       "      <td>Manhattan</td>\n",
       "      <td>Harlem</td>\n",
       "      <td>40.81475</td>\n",
       "      <td>-73.94867</td>\n",
       "      <td>Entire home/apt</td>\n",
       "      <td>115</td>\n",
       "      <td>10</td>\n",
       "      <td>0</td>\n",
       "      <td>NaN</td>\n",
       "      <td>NaN</td>\n",
       "      <td>1</td>\n",
       "      <td>27</td>\n",
       "    </tr>\n",
       "    <tr>\n",
       "      <th>48893</th>\n",
       "      <td>36485609</td>\n",
       "      <td>43rd St. Time Square-cozy single bed</td>\n",
       "      <td>30985759</td>\n",
       "      <td>Taz</td>\n",
       "      <td>Manhattan</td>\n",
       "      <td>Hell's Kitchen</td>\n",
       "      <td>40.75751</td>\n",
       "      <td>-73.99112</td>\n",
       "      <td>Shared room</td>\n",
       "      <td>55</td>\n",
       "      <td>1</td>\n",
       "      <td>0</td>\n",
       "      <td>NaN</td>\n",
       "      <td>NaN</td>\n",
       "      <td>6</td>\n",
       "      <td>2</td>\n",
       "    </tr>\n",
       "    <tr>\n",
       "      <th>48894</th>\n",
       "      <td>36487245</td>\n",
       "      <td>Trendy duplex in the very heart of Hell's Kitchen</td>\n",
       "      <td>68119814</td>\n",
       "      <td>Christophe</td>\n",
       "      <td>Manhattan</td>\n",
       "      <td>Hell's Kitchen</td>\n",
       "      <td>40.76404</td>\n",
       "      <td>-73.98933</td>\n",
       "      <td>Private room</td>\n",
       "      <td>90</td>\n",
       "      <td>7</td>\n",
       "      <td>0</td>\n",
       "      <td>NaN</td>\n",
       "      <td>NaN</td>\n",
       "      <td>1</td>\n",
       "      <td>23</td>\n",
       "    </tr>\n",
       "  </tbody>\n",
       "</table>\n",
       "<p>48895 rows × 16 columns</p>\n",
       "</div>"
      ],
      "text/plain": [
       "             id                                               name   host_id  \\\n",
       "0          2539                 Clean & quiet apt home by the park      2787   \n",
       "1          2595                              Skylit Midtown Castle      2845   \n",
       "2          3647                THE VILLAGE OF HARLEM....NEW YORK !      4632   \n",
       "3          3831                    Cozy Entire Floor of Brownstone      4869   \n",
       "4          5022   Entire Apt: Spacious Studio/Loft by central park      7192   \n",
       "...         ...                                                ...       ...   \n",
       "48890  36484665    Charming one bedroom - newly renovated rowhouse   8232441   \n",
       "48891  36485057      Affordable room in Bushwick/East Williamsburg   6570630   \n",
       "48892  36485431            Sunny Studio at Historical Neighborhood  23492952   \n",
       "48893  36485609               43rd St. Time Square-cozy single bed  30985759   \n",
       "48894  36487245  Trendy duplex in the very heart of Hell's Kitchen  68119814   \n",
       "\n",
       "           host_name neighbourhood_group       neighbourhood  latitude  \\\n",
       "0               John            Brooklyn          Kensington  40.64749   \n",
       "1           Jennifer           Manhattan             Midtown  40.75362   \n",
       "2          Elisabeth           Manhattan              Harlem  40.80902   \n",
       "3        LisaRoxanne            Brooklyn        Clinton Hill  40.68514   \n",
       "4              Laura           Manhattan         East Harlem  40.79851   \n",
       "...              ...                 ...                 ...       ...   \n",
       "48890        Sabrina            Brooklyn  Bedford-Stuyvesant  40.67853   \n",
       "48891        Marisol            Brooklyn            Bushwick  40.70184   \n",
       "48892  Ilgar & Aysel           Manhattan              Harlem  40.81475   \n",
       "48893            Taz           Manhattan      Hell's Kitchen  40.75751   \n",
       "48894     Christophe           Manhattan      Hell's Kitchen  40.76404   \n",
       "\n",
       "       longitude        room_type  price  minimum_nights  number_of_reviews  \\\n",
       "0      -73.97237     Private room    149               1                  9   \n",
       "1      -73.98377  Entire home/apt    225               1                 45   \n",
       "2      -73.94190     Private room    150               3                  0   \n",
       "3      -73.95976  Entire home/apt     89               1                270   \n",
       "4      -73.94399  Entire home/apt     80              10                  9   \n",
       "...          ...              ...    ...             ...                ...   \n",
       "48890  -73.94995     Private room     70               2                  0   \n",
       "48891  -73.93317     Private room     40               4                  0   \n",
       "48892  -73.94867  Entire home/apt    115              10                  0   \n",
       "48893  -73.99112      Shared room     55               1                  0   \n",
       "48894  -73.98933     Private room     90               7                  0   \n",
       "\n",
       "      last_review  reviews_per_month  calculated_host_listings_count  \\\n",
       "0      2018-10-19               0.21                               6   \n",
       "1      2019-05-21               0.38                               2   \n",
       "2             NaN                NaN                               1   \n",
       "3      2019-07-05               4.64                               1   \n",
       "4      2018-11-19               0.10                               1   \n",
       "...           ...                ...                             ...   \n",
       "48890         NaN                NaN                               2   \n",
       "48891         NaN                NaN                               2   \n",
       "48892         NaN                NaN                               1   \n",
       "48893         NaN                NaN                               6   \n",
       "48894         NaN                NaN                               1   \n",
       "\n",
       "       availability_365  \n",
       "0                   365  \n",
       "1                   355  \n",
       "2                   365  \n",
       "3                   194  \n",
       "4                     0  \n",
       "...                 ...  \n",
       "48890                 9  \n",
       "48891                36  \n",
       "48892                27  \n",
       "48893                 2  \n",
       "48894                23  \n",
       "\n",
       "[48895 rows x 16 columns]"
      ]
     },
     "execution_count": 131,
     "metadata": {},
     "output_type": "execute_result"
    }
   ],
   "source": [
    "airbnb = get_data('AB_NYC_2019')\n",
    "airbnb"
   ]
  },
  {
   "cell_type": "code",
   "execution_count": 132,
   "id": "32491c2c-0bc5-4477-8f34-5fc8e3070c19",
   "metadata": {},
   "outputs": [
    {
     "name": "stdout",
     "output_type": "stream",
     "text": [
      "<class 'pandas.core.frame.DataFrame'>\n",
      "RangeIndex: 48895 entries, 0 to 48894\n",
      "Data columns (total 16 columns):\n",
      " #   Column                          Non-Null Count  Dtype  \n",
      "---  ------                          --------------  -----  \n",
      " 0   id                              48895 non-null  int64  \n",
      " 1   name                            48879 non-null  object \n",
      " 2   host_id                         48895 non-null  int64  \n",
      " 3   host_name                       48874 non-null  object \n",
      " 4   neighbourhood_group             48895 non-null  object \n",
      " 5   neighbourhood                   48895 non-null  object \n",
      " 6   latitude                        48895 non-null  float64\n",
      " 7   longitude                       48895 non-null  float64\n",
      " 8   room_type                       48895 non-null  object \n",
      " 9   price                           48895 non-null  int64  \n",
      " 10  minimum_nights                  48895 non-null  int64  \n",
      " 11  number_of_reviews               48895 non-null  int64  \n",
      " 12  last_review                     38843 non-null  object \n",
      " 13  reviews_per_month               38843 non-null  float64\n",
      " 14  calculated_host_listings_count  48895 non-null  int64  \n",
      " 15  availability_365                48895 non-null  int64  \n",
      "dtypes: float64(3), int64(7), object(6)\n",
      "memory usage: 6.0+ MB\n"
     ]
    }
   ],
   "source": [
    "airbnb.info()"
   ]
  },
  {
   "cell_type": "markdown",
   "id": "6a19beee-8beb-44ea-adea-87fc795a90ed",
   "metadata": {},
   "source": [
    "## 3. Check Data Types"
   ]
  },
  {
   "cell_type": "code",
   "execution_count": 133,
   "id": "83896e32-b4ed-4de5-8129-309bc5fb3d7b",
   "metadata": {},
   "outputs": [
    {
     "data": {
      "text/plain": [
       "id                                  int64\n",
       "name                               object\n",
       "host_id                             int64\n",
       "host_name                          object\n",
       "neighbourhood_group                object\n",
       "neighbourhood                      object\n",
       "latitude                          float64\n",
       "longitude                         float64\n",
       "room_type                          object\n",
       "price                               int64\n",
       "minimum_nights                      int64\n",
       "number_of_reviews                   int64\n",
       "last_review                        object\n",
       "reviews_per_month                 float64\n",
       "calculated_host_listings_count      int64\n",
       "availability_365                    int64\n",
       "dtype: object"
      ]
     },
     "execution_count": 133,
     "metadata": {},
     "output_type": "execute_result"
    }
   ],
   "source": [
    "airbnb.dtypes"
   ]
  },
  {
   "cell_type": "markdown",
   "id": "bdc148d9-21e3-4c93-bbea-7973c523fcbb",
   "metadata": {},
   "source": [
    "## 4. Check for duplicates"
   ]
  },
  {
   "cell_type": "code",
   "execution_count": 134,
   "id": "c2b7c4d0-3392-4eee-952d-350ff22be9d3",
   "metadata": {},
   "outputs": [
    {
     "data": {
      "text/plain": [
       "np.int64(0)"
      ]
     },
     "execution_count": 134,
     "metadata": {},
     "output_type": "execute_result"
    }
   ],
   "source": [
    "airbnb.duplicated().sum()"
   ]
  },
  {
   "cell_type": "markdown",
   "id": "54d9e4ba-ee9a-495c-9d5b-03ed11d28d57",
   "metadata": {},
   "source": [
    "## 5. Detailed Analysis"
   ]
  },
  {
   "cell_type": "markdown",
   "id": "afacf63c-8d31-4693-b979-39612f97cd62",
   "metadata": {
    "jp-MarkdownHeadingCollapsed": true
   },
   "source": [
    "### `name`"
   ]
  },
  {
   "cell_type": "code",
   "execution_count": 135,
   "id": "3031d868-2c1c-4618-a698-afd623fc8279",
   "metadata": {},
   "outputs": [
    {
     "data": {
      "text/plain": [
       "0                       Clean & quiet apt home by the park\n",
       "1                                    Skylit Midtown Castle\n",
       "2                      THE VILLAGE OF HARLEM....NEW YORK !\n",
       "3                          Cozy Entire Floor of Brownstone\n",
       "4         Entire Apt: Spacious Studio/Loft by central park\n",
       "                               ...                        \n",
       "48890      Charming one bedroom - newly renovated rowhouse\n",
       "48891        Affordable room in Bushwick/East Williamsburg\n",
       "48892              Sunny Studio at Historical Neighborhood\n",
       "48893                 43rd St. Time Square-cozy single bed\n",
       "48894    Trendy duplex in the very heart of Hell's Kitchen\n",
       "Name: name, Length: 48895, dtype: object"
      ]
     },
     "execution_count": 135,
     "metadata": {},
     "output_type": "execute_result"
    }
   ],
   "source": [
    "airbnb.name"
   ]
  },
  {
   "cell_type": "code",
   "execution_count": 136,
   "id": "54620636-e9ab-4a20-a521-2eb18f37abcd",
   "metadata": {},
   "outputs": [
    {
     "data": {
      "text/plain": [
       "array(['&', nan, '....', '!', ':', '/', \"'\", '-', ',', '+', '#', '.', ';',\n",
       "       '$', '*', '...', '!!!', '**', '!!', '(', ')', '—', '.,', '’',\n",
       "       '.....', '.(', '~/', '•', '>', '@', '/++', ')!', '-⭐️', '--', '..',\n",
       "       ':,', '⚡', '☆', '!-', '=', ')*', '\"', '✿✿✿', '{', '}', '-à-', '_',\n",
       "       '²', '++', ':\\n', '–', '\\n', '|', 'ä', '.........', 'é', ':)',\n",
       "       '❤️', '******', '*****', '!*', '->', '<', './', '♥️', '?', ';)',\n",
       "       '☆☆', '~', '%', '!!!!', '♥', '^', '.!', '***', '❤', '//', '★',\n",
       "       '*,', '™', '.)', '!(', '“', '(&', '!)', '\\n\\n', '.-', '.✨', ').',\n",
       "       '¡¡', '[', ']', '★★★★★-', '|❤', '-(', '..!', '::', '••', '!!••',\n",
       "       'º', '!,', '!--', '☀️', 'â', '!~', '!❤️❤️❤️❤️❤️', '...!!',\n",
       "       '(安靜公寓)', '!☆', '”\\n', ':-)', '\\n+', '....)', '皇后区“曼哈顿”-森林小丘别墅!',\n",
       "       '别墅二楼主卧房', '别墅的地下室', '($', 'à', '-$-', '三楼阁楼', '别墅二楼卧房',\n",
       "       'ﾆｭｰﾖｰｸの中心', '曼哈顿上西区林肯中心附近优质公寓短租!', '=)', '法拉盛中心温馨两房两厅公寓｡近一切｡',\n",
       "       '\":', 'Ü', 'ó', '!\\n', '/♥', '❤️️', '*$$', '汤母小屋', '纽约之家(',\n",
       "       '“纽约之家', '”独立洗手间', '..!!!', '(+', '“纽约之家”', '独立洗手间', '!!!!!!!',\n",
       "       '”', '舒适阳光房', 'è', '~*', '*~', '`', '!!!!!!', '!@!', '正面能量',\n",
       "       '近地铁及市中心,交通方便,干净,明亮,到曼哈頓只要', '分鐘', '近地铁及市中心,干净', '―', '.\"', '****',\n",
       "       '´', '⭐️', '阳光温馨单房', '停车容易', '||', ',\\n', '♡', '✌️',\n",
       "       '近公園新小套房,鬧中取靜', '---', '*^', ':-)!', 'светлая', 'комната', 'с',\n",
       "       'балконом', '/!', '哥伦比亚大学附近公寓内客厅一间,', '美元一天', '✦', 'ç', '·',\n",
       "       'русский,', 'עברית', \"''\", '(-', '中央公园旁的现代公寓', '✪', ',欢迎中国朋友来住',\n",
       "       ',.', 'Комната', 'в', 'Манхеттене,', 'октября', ':))', '!!!!!',\n",
       "       '(#', 'ღ', '웃♥유', '曼哈顿上西区比邻哥伦比亚大学一室一厅可住', '人温馨小屋', '+.',\n",
       "       '欢迎中国游客短租', '❤️❤️', '!••', '!!!/', '(^_^)', '位于曼哈顿纽约上城,高级住宅区',\n",
       "       '❤︎', 'í', '纽约市曼哈顿中城', '\\xa0', '室', '厅_$', '/月', '位于曼哈顿岛上', '街',\n",
       "       '性价比超高房间短租~', '纽约之家', '\\n“', '웨스트빌리지에', '위치한', '고급', '스튜디오',\n",
       "       '(도어맨)', '【完全個室】', '､専用ﾊﾞｽﾄｲﾚ､ｷｯﾁﾝ付き(', '与众不同,方便停车｡值得一试!', '.!!',\n",
       "       'å', '\\\\)', '⚜', '旅途中的家', '◔‿◔', '房源', '暑假招租,', '月', '日-', '日',\n",
       "       ')-', '~~', '~!', '单房短租', '交通便利', '☞', '哥大附近卧室', '),', '+)', ')+',\n",
       "       '!!,', '뉴욕의', '꿈꾸는', '집', '✺', '(Ś', 'ü', '分钟拉瓜迪机场,',\n",
       "       '分钟肯尼迪机场｡皇后区法拉盛中心,地段超好｡#', '近地铁单房', '✨', '新精緻近公園舒適含窗半地下公寓',\n",
       "       '★★★★★', ')$', '\"\"', '★★', '‘', '~**', '**~', '$!', '.+',\n",
       "       '可愛いﾚﾝｶﾞの壁のお部屋/', '️', '豪华套间', '\"-', '-)', '紐約民宿', '_*', '✰',\n",
       "       '停车方便｡是你入住的最好选择｡', '和缘阳光民宿', '停车方便,环境优美', '宽敞明亮,中英文服务｡', 'דירה',\n",
       "       'שווה', 'בוויליאמסבורג', '☝', '!!)',\n",
       "       '浪漫民宿,环境优美,停车方便,独立洗手间和马桶,浴室共用｡', 'Не', 'дорогая', 'Нью-Йорке,',\n",
       "       'Бруклине', '⭐️⭐️⭐️⭐️⭐️', '☼', '❤️❤️❤️', 'É', '맨하튼', '소호', '거리',\n",
       "       '주변', '인실', 'で人気の街ﾌﾞﾙｯｸﾘﾝﾊﾟｰｸｽﾛｰﾌﾟで､暮らしてみませんか｡', '?*', '法拉盛', '家(',\n",
       "       '\\n(', ')\\n', '曼哈顿景色豪华公寓', '简单的四房一厅两卫生间,位于北上远离开辆,走路四分钟到地铁站,交通便利\\n',\n",
       "       '+++)', '*\\n', '\\n•', '★★明るいお部屋★', '和缘特色浪漫房', '❤️/', '哥大附近', '《',\n",
       "       '》法拉盛市中心明亮干净的私人房间', '温馨舒适双人房,双床,明亮大窗,电梯公寓(两个房间用一个卫生间)', '☆☆☆',\n",
       "       '—\\xa0', 'ﾐｯﾄﾞﾀｳﾝｳｴｽﾄｻｲﾄﾞ', '...皇后区大房,', '近超市､地铁', '⭐', '\\n#',\n",
       "       '!★', '法拉盛中心公寓楼高层', '唐人街电梯公寓/厨卫/网快/美网赛事', '△', '纽约干净大房近地铁站',\n",
       "       '❤️❤️/', '&\\n', '♛', '曼哈顿中心', '位于地狱厨房,位置棒棒',\n",
       "       '緑が多く安全なﾌﾞﾙｯｸﾘﾝﾊﾟｰｸｽﾛｰﾌﾟの庭付き貸切ｱﾊﾟｰﾄ', 'ღღღ', 'œ', '法拉盛(', ')独立出入',\n",
       "       '套房出租｡', '房', '卫', '纽约三室一厅两全浴带独立厨房和停车位\\n', '.❤️❤️❤️❤️❤️', 'ॐ', '¡',\n",
       "       '☺', '近', '机场和地铁', '【ｱｸｾｽ抜群】空港', '分･ﾏﾝﾊｯﾀﾝ', '分!駅徒歩',\n",
       "       '分の好立地なお部屋です', '/.', '❤️❤️❤️❤️❤️', '✮', '阳光民宿',\n",
       "       '单房干净舒适｡“和缘国旅”了解更多旅游､民宿', '!⭐️', '️-', '旅客之家', '法拉盛中心的新装修房', 'ö',\n",
       "       '_(', '豪华卧室', '汤姆公寓', '天使的温暖', '曼哈顿林肯中心一室一厅', ')**', '(=', '♕',\n",
       "       '|★★★★★|', '!全新,商务最佳', '温馨双人房,步行地铁两分钟,', ',单间双人房,(共用卫生间)',\n",
       "       '大双人房,共用卫生间,', '舒适温馨小屋两间', '!❤️', 'ﾐｯﾄﾞﾀｳﾝ高級ｺﾝﾄﾞのﾘﾋﾞﾝｸﾞﾙｰﾑに宿泊',\n",
       "       '):', '整套豪华公寓', 'ｳｨﾘｱﾑｽﾞﾊﾞｰｸﾞのかわいいお部屋です', 'ñ', '露西套房(', '【', '】',\n",
       "       '佳源家庭旅馆', '佳源家庭旅馆套房', '舒适洁净的保证', '纽约森林小丘简约文艺客舍', '佳源家庭旅馆双床房间',\n",
       "       'Комната.', 'Место', 'комнате', 'Á', '阳光之家', '近哥大电梯公寓大楼',\n",
       "       '超级便利的豪华公寓次卧', 'для', 'пары', '罗岛一间卧室出租', '☆☆☆☆☆', '呎',\n",
       "       '法拉盛美丽豪华大套房', '法拉盛唯美独立房间', '法拉盛温馨亲子房',\n",
       "       '法拉盛高档,奢华大套房(带按摩浴缸和淋浴的独立卫生间)', 'ù', '溫馨大套房', '-\\n', '..**',\n",
       "       '纽约曼哈顿', '唐人街公寓', '方便,性价比高', '(☆☆☆☆☆)', '纽约', '罗岛曼哈顿短租',\n",
       "       ')法拉盛舒适轻奢套房', '法拉盛近地铁舒适单房—', '.\\n', '法拉盛中心近地铁舒适单房—', '大学', 'Ó',\n",
       "       '近法拉盛海景房', '/&', '$$', '>>', ';(', ')(', '纽约法拉盛民宿客栈', '☀', '【限',\n",
       "       '名女生】近哥伦比亚大学超方便短租房【无其他费用】(情侣请私聊)', '中国城', '♔', '旅游,探亲,留学生首选',\n",
       "       '温馨小屋', ';$', '名個室)', '客栈', '⭐︎⭐︎', '✔', '法拉盛中心單人房间', '法拉盛中心私人房间',\n",
       "       '/法拉盛中心私人房間獨立衛浴', '?=>', '◈', 'две', 'кровати', '紐約哥大週邊優質短租',\n",
       "       '套房私享一层', '✴', '双层屋', '新一处客居(', '暑假短租', '√', '(☆)', '(♥)', '✈',\n",
       "       'À', '美国', '家庭风----幸运纽约客', '民宿', '皇后区豪华园林式独立别墅适合家庭出游理想住宿自由畅享私家空间',\n",
       "       '((', '))', '!.', '和缘浪漫民宿', '♥♥♥', ';-))', '温馨方便', '==',\n",
       "       '像纽约有个温馨的家', '安静整洁', '♦♦♦', '温馨如家', '\\n<', '自己的小房间', '￫￫￫', '☆彡',\n",
       "       '法拉盛中心', '靠近地铁站\\n', '▲', 'é,', '曼哈顿帝国大厦/', '▶︎', '曼哈顿/帝国大夏/',\n",
       "       '豪华双人间\\n法拉盛步行地铁站', '纽约多单元大厦', ';-)', '私人空间', '///', '⭐⭐⭐', '/\\n',\n",
       "       '★☆', '☆-', '\\n&', '⚓', '靠近机场交通购物两便利房间#', '\\n&(', ':-', '法拉盛步行',\n",
       "       '号地铁', '分钟左右单房(共用卫生间)', '法拉盛步行地铁站', '分钟带独立卫生间套房', '法拉盛步行地铁',\n",
       "       '分钟单房(共用卫生间)', '床', '靠近机场交通方便明亮大房间#', '纽约单一家庭住宅', ',(', '^^',\n",
       "       '温馨漂亮大睡房', '干净舒适花园房', '⬆︎', '&法拉盛/', '한성', '韓城', '金色上房', 'Ô',\n",
       "       '法拉盛中心新大楼', '卧,', '分钟', '单人间', '\\n獨一無二的紐約閣樓', '安全舒適的家\\n', '.²',\n",
       "       '✨✨', '•••', '美麗之家', '舒適安全便利的家', '｡', '♀', '♂', '!***', '-_-',\n",
       "       '★-', '窗下凉台花园房｡', '$$$', '⏩', '⏪', 'İ', '..(', '\\\\\\\\', '家', '粉色上房',\n",
       "       '—>', '家庭式旅馆獨立衛生間套房', '✩', '家庭式雙人房', '家庭式單間雙人床', '家庭式獨立衛生間套房',\n",
       "       '+),', '⍟', '家庭式雙床房', '°', '温馨小筑', '따뜻한', '작은', '건물', '`-', '⋆',\n",
       "       '➡︎', '☯', '⭐$', '@@@', '-#', '全独立套房十分钟法拉盛中心', '音樂之家', '网红楼',\n",
       "       '沙发客厅', '×', '纽约长岛市最新豪华网红楼王', '独立卧室出租!(出门就是地铁站!)',\n",
       "       '长岛豪华公寓单间卧室低价短租交通无敌便利', '紐約清雅居,地鐵公車便利,步行', '分鐘到超市', '幸福小屋', '!!:)',\n",
       "       '+++', '=]', 'Сдаётся', 'Февраля-', 'Марта', ',\\nВ', 'отличном',\n",
       "       'раёне', '!\\xa0', '\"!', '‘’', '’’', '(個室)', '纽约客民宿', '法拉盛花园独立屋',\n",
       "       '웃', '♪', '套房', '春', 'ê', '夏', '秋', '旅行客栈', '✤', '温馨的家', '双个房',\n",
       "       '三人房', '靓房', \"')\", '曼岛中城', '切尔西区', '闹市中静怡如家的空间', '❋',\n",
       "       '温馨小宅,安静干净,环境优美!', '安静', '干净', '温暖的小屋', '²/', '²★',\n",
       "       '干净卫生的环境房,欢迎订房', ',&', '中城西豪华客厅!', ')!!!!', '公馆套房', '曼哈顿', '街转租!',\n",
       "       '温暖的双人房间', 'Ú', '✭', '!✭', 'á', '/帝国大夏/', '©', '靠近机场,交通购物两便利大房间#',\n",
       "       '西藏民居', '!!★', '林肯中心', '分钟到西', '地铁站', '温馨双单人床小屋',\n",
       "       '纽约曼哈顿中城临近高校舒适公寓-仅限女性入住', '\"!!', '♥︎', '小房间', '!\"', 'на',\n",
       "       '靠近机场交通方便双人房#', '\\\\', '步行', '分钟到缅街中心的独立电梯房', '分钟到纽约城市广场,下楼即是地铁站',\n",
       "       '分钟到法拉盛缅街中心的电梯房,提供免费矿泉水可乐', '哥伦比亚大学附近步行', '分钟高档公寓主卧暑期降价转租', '>&',\n",
       "       '(舒适双人房带阳台)', '金城发双人房', '❣', '❀', '阳台大双人房', '➖', '￨', '===', '✌',\n",
       "       '✿', '幸运旅程', '温馨旅店(', '!:', '❤❤❤', '法拉盛中心地段单身客房', '+,', '⚾', '》',\n",
       "       '☕', '部屋でのｼｪｱ', '畳', '駅から徒歩', '分', 'ﾌﾞﾙｯｸﾘﾝの大人気ｴﾘｱ:ｳｨﾘｱﾑｽﾞﾊﾞｰｸﾞから',\n",
       "       '駅', 'ﾌﾞﾙｯｸﾘﾝの大人気ｴﾘｱのｳｨﾘｱﾑｽﾞﾊﾞｰｸﾞから', '分の好立地', '曼哈顿奢侈公寓次卧', '?\\n',\n",
       "       '➽', '⊹', '.#', '?!', '❤️$', '⌚', '★★★', '离缅街步行',\n",
       "       '分钟的电梯独立房间,提供免费矿泉水可乐', '驿站', '舒适单人房(', '分钟的电梯单间,提供免费矿泉水可乐', '안전하고',\n",
       "       '조용한', '숙소', '⚓⚓⚓', '✿✿', '❥❥❥', '❥❥', '✧', '✌✌✌', 'ﾏﾝﾊｯﾀﾝ､駅から徒歩',\n",
       "       '分でどこに行くのにも便利な場所!女性の方希望,ｷﾚｲなお部屋｡', '⚡⚡', '##', '舒适的带空调单间',\n",
       "       '舒适的阳光朝南单间-与哥大咫尺之遥', '~~~~', '纽约的家', '中央公园旁的单间', '金城发大床房', ':)\\n',\n",
       "       '♥~', '~♥', '金城发', '❥❥❥*', '地铁口', '街阳光主卧', '月短租】限女生,', '!@', ';\\n',\n",
       "       '(独立出入)', '❥', '纽约罗岛', '整租或合租', '窗外美景', '设施全', '家具新', '到曼哈顿方便',\n",
       "       '性价比高'], dtype=object)"
      ]
     },
     "execution_count": 136,
     "metadata": {},
     "output_type": "execute_result"
    }
   ],
   "source": [
    "(\n",
    "    airbnb\n",
    "    .name\n",
    "    .str.findall(r'[^A-Za-z0-9 ]+')\n",
    "    .explode()\n",
    "    .unique()\n",
    ")"
   ]
  },
  {
   "cell_type": "code",
   "execution_count": 137,
   "id": "b2df275c-18f8-46b5-9df6-ae2f0e1d84b6",
   "metadata": {},
   "outputs": [
    {
     "data": {
      "text/plain": [
       "0                         clean quiet apt home by the park\n",
       "1                                    skylit midtown castle\n",
       "2                           the village of harlem new york\n",
       "3                          cozy entire floor of brownstone\n",
       "4          entire apt spacious studio loft by central park\n",
       "                               ...                        \n",
       "48890        charming one bedroom newly renovated rowhouse\n",
       "48891        affordable room in bushwick east williamsburg\n",
       "48892              sunny studio at historical neighborhood\n",
       "48893                  43rd st time square cozy single bed\n",
       "48894    trendy duplex in the very heart of hell s kitchen\n",
       "Name: name, Length: 48895, dtype: object"
      ]
     },
     "execution_count": 137,
     "metadata": {},
     "output_type": "execute_result"
    }
   ],
   "source": [
    "(\n",
    "    airbnb\n",
    "    .name\n",
    "    .fillna('')\n",
    "    .str.normalize('NFKD')\n",
    "    .str.encode('ascii', errors='ignore')\n",
    "    .str.decode('ascii')\n",
    "    .str.replace(r'[^0-9A-Za-z ]', ' ', regex=True)\n",
    "    .str.replace(r' +', ' ', regex=True)\n",
    "    .str.strip()\n",
    "    .str.lower()\n",
    "    # .loc[lambda ser: ~ser.str.contains(\n",
    "    #     r'\\b(?:yacht\\s+tour|yacht\\s+cruise|boat\\s+tour|events?\\s+listing|storage\\s+only|parking\\s+only)\\b',\n",
    "    #     case=False, na=False\n",
    "    # )]\n",
    ")"
   ]
  },
  {
   "cell_type": "markdown",
   "id": "4bfee203-05ef-4f22-924e-3e2417e5a523",
   "metadata": {
    "jp-MarkdownHeadingCollapsed": true
   },
   "source": [
    "### `host_id`"
   ]
  },
  {
   "cell_type": "code",
   "execution_count": 138,
   "id": "b118f809-7703-4f75-947e-a467ad36de52",
   "metadata": {},
   "outputs": [
    {
     "data": {
      "text/plain": [
       "0            2787\n",
       "1            2845\n",
       "2            4632\n",
       "3            4869\n",
       "4            7192\n",
       "           ...   \n",
       "48890     8232441\n",
       "48891     6570630\n",
       "48892    23492952\n",
       "48893    30985759\n",
       "48894    68119814\n",
       "Name: host_id, Length: 48895, dtype: int64"
      ]
     },
     "execution_count": 138,
     "metadata": {},
     "output_type": "execute_result"
    }
   ],
   "source": [
    "airbnb.host_id"
   ]
  },
  {
   "cell_type": "code",
   "execution_count": 139,
   "id": "056b53ca-550e-442a-aae4-b940dd92dfd3",
   "metadata": {},
   "outputs": [
    {
     "data": {
      "text/plain": [
       "np.int64(11438)"
      ]
     },
     "execution_count": 139,
     "metadata": {},
     "output_type": "execute_result"
    }
   ],
   "source": [
    "airbnb.host_id.duplicated().sum()"
   ]
  },
  {
   "cell_type": "code",
   "execution_count": 140,
   "id": "aa6338e4-2fca-4f98-a573-691fc7b126e9",
   "metadata": {},
   "outputs": [
    {
     "data": {
      "text/plain": [
       "0        6\n",
       "1        2\n",
       "2        1\n",
       "3        1\n",
       "4        1\n",
       "        ..\n",
       "48890    2\n",
       "48891    2\n",
       "48892    1\n",
       "48893    6\n",
       "48894    1\n",
       "Length: 48895, dtype: int64"
      ]
     },
     "execution_count": 140,
     "metadata": {},
     "output_type": "execute_result"
    }
   ],
   "source": [
    "airbnb.groupby('host_id').transform('size')"
   ]
  },
  {
   "cell_type": "markdown",
   "id": "80aebc98-3ce6-4d0e-a555-d0cfc947d3ec",
   "metadata": {
    "jp-MarkdownHeadingCollapsed": true
   },
   "source": [
    "### `neighbourhood_group`"
   ]
  },
  {
   "cell_type": "code",
   "execution_count": 141,
   "id": "b7399725-8eb2-4d1c-8d48-55898f516e97",
   "metadata": {},
   "outputs": [
    {
     "data": {
      "text/plain": [
       "0         Brooklyn\n",
       "1        Manhattan\n",
       "2        Manhattan\n",
       "3         Brooklyn\n",
       "4        Manhattan\n",
       "           ...    \n",
       "48890     Brooklyn\n",
       "48891     Brooklyn\n",
       "48892    Manhattan\n",
       "48893    Manhattan\n",
       "48894    Manhattan\n",
       "Name: neighbourhood_group, Length: 48895, dtype: object"
      ]
     },
     "execution_count": 141,
     "metadata": {},
     "output_type": "execute_result"
    }
   ],
   "source": [
    "airbnb.neighbourhood_group"
   ]
  },
  {
   "cell_type": "code",
   "execution_count": 142,
   "id": "ef1b226b-3a0c-4820-be0e-da9663bbfc16",
   "metadata": {},
   "outputs": [
    {
     "data": {
      "text/plain": [
       "array(['Brooklyn', 'Manhattan', 'Queens', 'Staten Island', 'Bronx'],\n",
       "      dtype=object)"
      ]
     },
     "execution_count": 142,
     "metadata": {},
     "output_type": "execute_result"
    }
   ],
   "source": [
    "airbnb.neighbourhood_group.unique()"
   ]
  },
  {
   "cell_type": "code",
   "execution_count": 143,
   "id": "bd453d79-6a3f-4f75-ad71-15b226213ba1",
   "metadata": {},
   "outputs": [
    {
     "data": {
      "text/plain": [
       "neighbourhood_group\n",
       "Manhattan        21661\n",
       "Brooklyn         20104\n",
       "Queens            5666\n",
       "Bronx             1091\n",
       "Staten Island      373\n",
       "Name: count, dtype: int64"
      ]
     },
     "execution_count": 143,
     "metadata": {},
     "output_type": "execute_result"
    }
   ],
   "source": [
    "airbnb.neighbourhood_group.value_counts()"
   ]
  },
  {
   "cell_type": "code",
   "execution_count": 144,
   "id": "a6b1aa69-4dfe-4128-b2e0-ba7dd00a5405",
   "metadata": {},
   "outputs": [
    {
     "data": {
      "text/plain": [
       "0         Brooklyn\n",
       "1        Manhattan\n",
       "2        Manhattan\n",
       "3         Brooklyn\n",
       "4        Manhattan\n",
       "           ...    \n",
       "48890     Brooklyn\n",
       "48891     Brooklyn\n",
       "48892    Manhattan\n",
       "48893    Manhattan\n",
       "48894    Manhattan\n",
       "Name: neighbourhood_group, Length: 48895, dtype: category\n",
       "Categories (5, object): ['Bronx', 'Brooklyn', 'Manhattan', 'Queens', 'Staten Island']"
      ]
     },
     "execution_count": 144,
     "metadata": {},
     "output_type": "execute_result"
    }
   ],
   "source": [
    "(\n",
    "    airbnb\n",
    "    .neighbourhood_group\n",
    "    .astype('category')\n",
    ")"
   ]
  },
  {
   "cell_type": "markdown",
   "id": "82f70f05-d6a1-4167-a689-48a1b5504a2c",
   "metadata": {},
   "source": [
    "### `neighbourhood`"
   ]
  },
  {
   "cell_type": "code",
   "execution_count": 145,
   "id": "4a58acbf-48c6-4366-b5b4-1d0e08da1065",
   "metadata": {},
   "outputs": [
    {
     "data": {
      "text/plain": [
       "0                Kensington\n",
       "1                   Midtown\n",
       "2                    Harlem\n",
       "3              Clinton Hill\n",
       "4               East Harlem\n",
       "                ...        \n",
       "48890    Bedford-Stuyvesant\n",
       "48891              Bushwick\n",
       "48892                Harlem\n",
       "48893        Hell's Kitchen\n",
       "48894        Hell's Kitchen\n",
       "Name: neighbourhood, Length: 48895, dtype: object"
      ]
     },
     "execution_count": 145,
     "metadata": {},
     "output_type": "execute_result"
    }
   ],
   "source": [
    "airbnb.neighbourhood"
   ]
  },
  {
   "cell_type": "code",
   "execution_count": 146,
   "id": "d76c9714-3a8a-4da4-a99c-9adc17aa0192",
   "metadata": {},
   "outputs": [
    {
     "data": {
      "text/plain": [
       "array(['Kensington', 'Midtown', 'Harlem', 'Clinton Hill', 'East Harlem',\n",
       "       'Murray Hill', 'Bedford-Stuyvesant', \"Hell's Kitchen\",\n",
       "       'Upper West Side', 'Chinatown', 'South Slope', 'West Village',\n",
       "       'Williamsburg', 'Fort Greene', 'Chelsea', 'Crown Heights',\n",
       "       'Park Slope', 'Windsor Terrace', 'Inwood', 'East Village',\n",
       "       'Greenpoint', 'Bushwick', 'Flatbush', 'Lower East Side',\n",
       "       'Prospect-Lefferts Gardens', 'Long Island City', 'Kips Bay',\n",
       "       'SoHo', 'Upper East Side', 'Prospect Heights',\n",
       "       'Washington Heights', 'Woodside', 'Brooklyn Heights',\n",
       "       'Carroll Gardens', 'Gowanus', 'Flatlands', 'Cobble Hill',\n",
       "       'Flushing', 'Boerum Hill', 'Sunnyside', 'DUMBO', 'St. George',\n",
       "       'Highbridge', 'Financial District', 'Ridgewood',\n",
       "       'Morningside Heights', 'Jamaica', 'Middle Village', 'NoHo',\n",
       "       'Ditmars Steinway', 'Flatiron District', 'Roosevelt Island',\n",
       "       'Greenwich Village', 'Little Italy', 'East Flatbush',\n",
       "       'Tompkinsville', 'Astoria', 'Clason Point', 'Eastchester',\n",
       "       'Kingsbridge', 'Two Bridges', 'Queens Village', 'Rockaway Beach',\n",
       "       'Forest Hills', 'Nolita', 'Woodlawn', 'University Heights',\n",
       "       'Gravesend', 'Gramercy', 'Allerton', 'East New York',\n",
       "       'Theater District', 'Concourse Village', 'Sheepshead Bay',\n",
       "       'Emerson Hill', 'Fort Hamilton', 'Bensonhurst', 'Tribeca',\n",
       "       'Shore Acres', 'Sunset Park', 'Concourse', 'Elmhurst',\n",
       "       'Brighton Beach', 'Jackson Heights', 'Cypress Hills', 'St. Albans',\n",
       "       'Arrochar', 'Rego Park', 'Wakefield', 'Clifton', 'Bay Ridge',\n",
       "       'Graniteville', 'Spuyten Duyvil', 'Stapleton', 'Briarwood',\n",
       "       'Ozone Park', 'Columbia St', 'Vinegar Hill', 'Mott Haven',\n",
       "       'Longwood', 'Canarsie', 'Battery Park City', 'Civic Center',\n",
       "       'East Elmhurst', 'New Springville', 'Morris Heights', 'Arverne',\n",
       "       'Cambria Heights', 'Tottenville', 'Mariners Harbor', 'Concord',\n",
       "       'Borough Park', 'Bayside', 'Downtown Brooklyn', 'Port Morris',\n",
       "       'Fieldston', 'Kew Gardens', 'Midwood', 'College Point',\n",
       "       'Mount Eden', 'City Island', 'Glendale', 'Port Richmond',\n",
       "       'Red Hook', 'Richmond Hill', 'Bellerose', 'Maspeth',\n",
       "       'Williamsbridge', 'Soundview', 'Woodhaven', 'Woodrow',\n",
       "       'Co-op City', 'Stuyvesant Town', 'Parkchester', 'North Riverdale',\n",
       "       'Dyker Heights', 'Bronxdale', 'Sea Gate', 'Riverdale',\n",
       "       'Kew Gardens Hills', 'Bay Terrace', 'Norwood', 'Claremont Village',\n",
       "       'Whitestone', 'Fordham', 'Bayswater', 'Navy Yard', 'Brownsville',\n",
       "       'Eltingville', 'Fresh Meadows', 'Mount Hope', 'Lighthouse Hill',\n",
       "       'Springfield Gardens', 'Howard Beach', 'Belle Harbor',\n",
       "       'Jamaica Estates', 'Van Nest', 'Morris Park', 'West Brighton',\n",
       "       'Far Rockaway', 'South Ozone Park', 'Tremont', 'Corona',\n",
       "       'Great Kills', 'Manhattan Beach', 'Marble Hill', 'Dongan Hills',\n",
       "       'Castleton Corners', 'East Morrisania', 'Hunts Point', 'Neponsit',\n",
       "       'Pelham Bay', 'Randall Manor', 'Throgs Neck', 'Todt Hill',\n",
       "       'West Farms', 'Silver Lake', 'Morrisania', 'Laurelton',\n",
       "       'Grymes Hill', 'Holliswood', 'Pelham Gardens', 'Belmont',\n",
       "       'Rosedale', 'Edgemere', 'New Brighton', 'Midland Beach',\n",
       "       'Baychester', 'Melrose', 'Bergen Beach', 'Richmondtown',\n",
       "       'Howland Hook', 'Schuylerville', 'Coney Island', 'New Dorp Beach',\n",
       "       \"Prince's Bay\", 'South Beach', 'Bath Beach', 'Jamaica Hills',\n",
       "       'Oakwood', 'Castle Hill', 'Hollis', 'Douglaston', 'Huguenot',\n",
       "       'Olinville', 'Edenwald', 'Grant City', 'Westerleigh',\n",
       "       'Bay Terrace, Staten Island', 'Westchester Square', 'Little Neck',\n",
       "       'Fort Wadsworth', 'Rosebank', 'Unionport', 'Mill Basin',\n",
       "       'Arden Heights', \"Bull's Head\", 'New Dorp', 'Rossville',\n",
       "       'Breezy Point', 'Willowbrook'], dtype=object)"
      ]
     },
     "execution_count": 146,
     "metadata": {},
     "output_type": "execute_result"
    }
   ],
   "source": [
    "airbnb.neighbourhood.unique()"
   ]
  },
  {
   "cell_type": "code",
   "execution_count": 147,
   "id": "471de265-a6e6-4567-ac73-3a9d056587d7",
   "metadata": {},
   "outputs": [
    {
     "data": {
      "text/plain": [
       "np.int64(0)"
      ]
     },
     "execution_count": 147,
     "metadata": {},
     "output_type": "execute_result"
    }
   ],
   "source": [
    "airbnb.neighbourhood.isna().sum()"
   ]
  },
  {
   "cell_type": "code",
   "execution_count": 148,
   "id": "35a35c03-41ce-4a2e-805c-42397bffc0ae",
   "metadata": {},
   "outputs": [
    {
     "data": {
      "text/plain": [
       "0                Kensington\n",
       "1                   Midtown\n",
       "2                    Harlem\n",
       "3              Clinton Hill\n",
       "4               East Harlem\n",
       "                ...        \n",
       "48890    Bedford-Stuyvesant\n",
       "48891              Bushwick\n",
       "48892                Harlem\n",
       "48893        Hell's Kitchen\n",
       "48894        Hell's Kitchen\n",
       "Name: neighbourhood, Length: 48895, dtype: category\n",
       "Categories (221, object): ['Allerton', 'Arden Heights', 'Arrochar', 'Arverne', ..., 'Woodhaven', 'Woodlawn', 'Woodrow', 'Woodside']"
      ]
     },
     "execution_count": 148,
     "metadata": {},
     "output_type": "execute_result"
    }
   ],
   "source": [
    "(\n",
    "    airbnb\n",
    "    .neighbourhood\n",
    "    .str.strip()\n",
    "    .astype('category')\n",
    ")"
   ]
  },
  {
   "cell_type": "markdown",
   "id": "d21d8442-118a-4f9a-8142-cd1bd2bda03b",
   "metadata": {
    "jp-MarkdownHeadingCollapsed": true
   },
   "source": [
    "### `latitude` & `longitude`"
   ]
  },
  {
   "cell_type": "code",
   "execution_count": 149,
   "id": "bb3f3c6e-1239-445b-ace6-c62457919edc",
   "metadata": {},
   "outputs": [
    {
     "data": {
      "text/html": [
       "<div>\n",
       "<style scoped>\n",
       "    .dataframe tbody tr th:only-of-type {\n",
       "        vertical-align: middle;\n",
       "    }\n",
       "\n",
       "    .dataframe tbody tr th {\n",
       "        vertical-align: top;\n",
       "    }\n",
       "\n",
       "    .dataframe thead th {\n",
       "        text-align: right;\n",
       "    }\n",
       "</style>\n",
       "<table border=\"1\" class=\"dataframe\">\n",
       "  <thead>\n",
       "    <tr style=\"text-align: right;\">\n",
       "      <th></th>\n",
       "      <th>latitude</th>\n",
       "      <th>longitude</th>\n",
       "    </tr>\n",
       "  </thead>\n",
       "  <tbody>\n",
       "    <tr>\n",
       "      <th>0</th>\n",
       "      <td>40.64749</td>\n",
       "      <td>-73.97237</td>\n",
       "    </tr>\n",
       "    <tr>\n",
       "      <th>1</th>\n",
       "      <td>40.75362</td>\n",
       "      <td>-73.98377</td>\n",
       "    </tr>\n",
       "    <tr>\n",
       "      <th>2</th>\n",
       "      <td>40.80902</td>\n",
       "      <td>-73.94190</td>\n",
       "    </tr>\n",
       "    <tr>\n",
       "      <th>3</th>\n",
       "      <td>40.68514</td>\n",
       "      <td>-73.95976</td>\n",
       "    </tr>\n",
       "    <tr>\n",
       "      <th>4</th>\n",
       "      <td>40.79851</td>\n",
       "      <td>-73.94399</td>\n",
       "    </tr>\n",
       "    <tr>\n",
       "      <th>...</th>\n",
       "      <td>...</td>\n",
       "      <td>...</td>\n",
       "    </tr>\n",
       "    <tr>\n",
       "      <th>48890</th>\n",
       "      <td>40.67853</td>\n",
       "      <td>-73.94995</td>\n",
       "    </tr>\n",
       "    <tr>\n",
       "      <th>48891</th>\n",
       "      <td>40.70184</td>\n",
       "      <td>-73.93317</td>\n",
       "    </tr>\n",
       "    <tr>\n",
       "      <th>48892</th>\n",
       "      <td>40.81475</td>\n",
       "      <td>-73.94867</td>\n",
       "    </tr>\n",
       "    <tr>\n",
       "      <th>48893</th>\n",
       "      <td>40.75751</td>\n",
       "      <td>-73.99112</td>\n",
       "    </tr>\n",
       "    <tr>\n",
       "      <th>48894</th>\n",
       "      <td>40.76404</td>\n",
       "      <td>-73.98933</td>\n",
       "    </tr>\n",
       "  </tbody>\n",
       "</table>\n",
       "<p>48895 rows × 2 columns</p>\n",
       "</div>"
      ],
      "text/plain": [
       "       latitude  longitude\n",
       "0      40.64749  -73.97237\n",
       "1      40.75362  -73.98377\n",
       "2      40.80902  -73.94190\n",
       "3      40.68514  -73.95976\n",
       "4      40.79851  -73.94399\n",
       "...         ...        ...\n",
       "48890  40.67853  -73.94995\n",
       "48891  40.70184  -73.93317\n",
       "48892  40.81475  -73.94867\n",
       "48893  40.75751  -73.99112\n",
       "48894  40.76404  -73.98933\n",
       "\n",
       "[48895 rows x 2 columns]"
      ]
     },
     "execution_count": 149,
     "metadata": {},
     "output_type": "execute_result"
    }
   ],
   "source": [
    "airbnb.loc[:,['latitude', 'longitude']]"
   ]
  },
  {
   "cell_type": "code",
   "execution_count": 150,
   "id": "e5fc3288-8bd5-4556-b399-15c078233579",
   "metadata": {},
   "outputs": [
    {
     "data": {
      "text/plain": [
       "latitude     40.91306\n",
       "longitude   -73.71299\n",
       "dtype: float64"
      ]
     },
     "execution_count": 150,
     "metadata": {},
     "output_type": "execute_result"
    }
   ],
   "source": [
    "airbnb.loc[:,['latitude', 'longitude']].max()"
   ]
  },
  {
   "cell_type": "code",
   "execution_count": 151,
   "id": "99eedc28-5044-4a40-bbe4-a8b013b50c1e",
   "metadata": {},
   "outputs": [
    {
     "data": {
      "text/plain": [
       "latitude     40.49979\n",
       "longitude   -74.24442\n",
       "dtype: float64"
      ]
     },
     "execution_count": 151,
     "metadata": {},
     "output_type": "execute_result"
    }
   ],
   "source": [
    "airbnb.loc[:,['latitude', 'longitude']].min()"
   ]
  },
  {
   "cell_type": "markdown",
   "id": "68977caf-6588-4235-b72e-c2a068f24827",
   "metadata": {
    "jp-MarkdownHeadingCollapsed": true
   },
   "source": [
    "### `room_type`"
   ]
  },
  {
   "cell_type": "code",
   "execution_count": 152,
   "id": "49fc480b-4979-4d33-b78e-04c4bc510a9e",
   "metadata": {},
   "outputs": [
    {
     "data": {
      "text/plain": [
       "0           Private room\n",
       "1        Entire home/apt\n",
       "2           Private room\n",
       "3        Entire home/apt\n",
       "4        Entire home/apt\n",
       "              ...       \n",
       "48890       Private room\n",
       "48891       Private room\n",
       "48892    Entire home/apt\n",
       "48893        Shared room\n",
       "48894       Private room\n",
       "Name: room_type, Length: 48895, dtype: object"
      ]
     },
     "execution_count": 152,
     "metadata": {},
     "output_type": "execute_result"
    }
   ],
   "source": [
    "airbnb.room_type"
   ]
  },
  {
   "cell_type": "code",
   "execution_count": 153,
   "id": "45f9d98a-9b78-4957-a7e8-5dcb49e9641f",
   "metadata": {},
   "outputs": [
    {
     "data": {
      "text/plain": [
       "array(['Private room', 'Entire home/apt', 'Shared room'], dtype=object)"
      ]
     },
     "execution_count": 153,
     "metadata": {},
     "output_type": "execute_result"
    }
   ],
   "source": [
    "airbnb.room_type.unique()"
   ]
  },
  {
   "cell_type": "code",
   "execution_count": 154,
   "id": "a8628005-4f56-47d0-bfdc-fc69f232aac3",
   "metadata": {},
   "outputs": [
    {
     "data": {
      "text/plain": [
       "0           Private room\n",
       "1        Entire home/apt\n",
       "2           Private room\n",
       "3        Entire home/apt\n",
       "4        Entire home/apt\n",
       "              ...       \n",
       "48890       Private room\n",
       "48891       Private room\n",
       "48892    Entire home/apt\n",
       "48893        Shared room\n",
       "48894       Private room\n",
       "Name: room_type, Length: 48895, dtype: category\n",
       "Categories (3, object): ['Entire home/apt', 'Private room', 'Shared room']"
      ]
     },
     "execution_count": 154,
     "metadata": {},
     "output_type": "execute_result"
    }
   ],
   "source": [
    "(\n",
    "    airbnb\n",
    "    .room_type\n",
    "    .astype('category')\n",
    ")"
   ]
  },
  {
   "cell_type": "markdown",
   "id": "686f107a-79d1-432b-b6bc-2980dd145541",
   "metadata": {
    "jp-MarkdownHeadingCollapsed": true
   },
   "source": [
    "### `price`"
   ]
  },
  {
   "cell_type": "code",
   "execution_count": 155,
   "id": "f6fcb655-2560-4837-83c3-e883e0f6543d",
   "metadata": {},
   "outputs": [
    {
     "data": {
      "text/plain": [
       "0        149\n",
       "1        225\n",
       "2        150\n",
       "3         89\n",
       "4         80\n",
       "        ... \n",
       "48890     70\n",
       "48891     40\n",
       "48892    115\n",
       "48893     55\n",
       "48894     90\n",
       "Name: price, Length: 48895, dtype: int64"
      ]
     },
     "execution_count": 155,
     "metadata": {},
     "output_type": "execute_result"
    }
   ],
   "source": [
    "airbnb.price"
   ]
  },
  {
   "cell_type": "code",
   "execution_count": 156,
   "id": "867e7798-56d8-499d-ab8b-909269e58ec3",
   "metadata": {},
   "outputs": [
    {
     "data": {
      "text/plain": [
       "np.int64(11)"
      ]
     },
     "execution_count": 156,
     "metadata": {},
     "output_type": "execute_result"
    }
   ],
   "source": [
    "airbnb.price.le(0).sum()"
   ]
  },
  {
   "cell_type": "code",
   "execution_count": 157,
   "id": "5a61eeca-1716-4f2c-946f-131d9fa182eb",
   "metadata": {},
   "outputs": [
    {
     "data": {
      "text/html": [
       "<div>\n",
       "<style scoped>\n",
       "    .dataframe tbody tr th:only-of-type {\n",
       "        vertical-align: middle;\n",
       "    }\n",
       "\n",
       "    .dataframe tbody tr th {\n",
       "        vertical-align: top;\n",
       "    }\n",
       "\n",
       "    .dataframe thead th {\n",
       "        text-align: right;\n",
       "    }\n",
       "</style>\n",
       "<table border=\"1\" class=\"dataframe\">\n",
       "  <thead>\n",
       "    <tr style=\"text-align: right;\">\n",
       "      <th></th>\n",
       "      <th>id</th>\n",
       "      <th>name</th>\n",
       "      <th>host_id</th>\n",
       "      <th>host_name</th>\n",
       "      <th>neighbourhood_group</th>\n",
       "      <th>neighbourhood</th>\n",
       "      <th>latitude</th>\n",
       "      <th>longitude</th>\n",
       "      <th>room_type</th>\n",
       "      <th>price</th>\n",
       "      <th>minimum_nights</th>\n",
       "      <th>number_of_reviews</th>\n",
       "      <th>last_review</th>\n",
       "      <th>reviews_per_month</th>\n",
       "      <th>calculated_host_listings_count</th>\n",
       "      <th>availability_365</th>\n",
       "    </tr>\n",
       "  </thead>\n",
       "  <tbody>\n",
       "    <tr>\n",
       "      <th>23161</th>\n",
       "      <td>18750597</td>\n",
       "      <td>Huge Brooklyn Brownstone Living, Close to it all.</td>\n",
       "      <td>8993084</td>\n",
       "      <td>Kimberly</td>\n",
       "      <td>Brooklyn</td>\n",
       "      <td>Bedford-Stuyvesant</td>\n",
       "      <td>40.69023</td>\n",
       "      <td>-73.95428</td>\n",
       "      <td>Private room</td>\n",
       "      <td>0</td>\n",
       "      <td>4</td>\n",
       "      <td>1</td>\n",
       "      <td>2018-01-06</td>\n",
       "      <td>0.05</td>\n",
       "      <td>4</td>\n",
       "      <td>28</td>\n",
       "    </tr>\n",
       "    <tr>\n",
       "      <th>25433</th>\n",
       "      <td>20333471</td>\n",
       "      <td>★Hostel Style Room | Ideal Traveling Buddies★</td>\n",
       "      <td>131697576</td>\n",
       "      <td>Anisha</td>\n",
       "      <td>Bronx</td>\n",
       "      <td>East Morrisania</td>\n",
       "      <td>40.83296</td>\n",
       "      <td>-73.88668</td>\n",
       "      <td>Private room</td>\n",
       "      <td>0</td>\n",
       "      <td>2</td>\n",
       "      <td>55</td>\n",
       "      <td>2019-06-24</td>\n",
       "      <td>2.56</td>\n",
       "      <td>4</td>\n",
       "      <td>127</td>\n",
       "    </tr>\n",
       "    <tr>\n",
       "      <th>25634</th>\n",
       "      <td>20523843</td>\n",
       "      <td>MARTIAL LOFT 3: REDEMPTION (upstairs, 2nd room)</td>\n",
       "      <td>15787004</td>\n",
       "      <td>Martial Loft</td>\n",
       "      <td>Brooklyn</td>\n",
       "      <td>Bushwick</td>\n",
       "      <td>40.69467</td>\n",
       "      <td>-73.92433</td>\n",
       "      <td>Private room</td>\n",
       "      <td>0</td>\n",
       "      <td>2</td>\n",
       "      <td>16</td>\n",
       "      <td>2019-05-18</td>\n",
       "      <td>0.71</td>\n",
       "      <td>5</td>\n",
       "      <td>0</td>\n",
       "    </tr>\n",
       "    <tr>\n",
       "      <th>25753</th>\n",
       "      <td>20608117</td>\n",
       "      <td>Sunny, Quiet Room in Greenpoint</td>\n",
       "      <td>1641537</td>\n",
       "      <td>Lauren</td>\n",
       "      <td>Brooklyn</td>\n",
       "      <td>Greenpoint</td>\n",
       "      <td>40.72462</td>\n",
       "      <td>-73.94072</td>\n",
       "      <td>Private room</td>\n",
       "      <td>0</td>\n",
       "      <td>2</td>\n",
       "      <td>12</td>\n",
       "      <td>2017-10-27</td>\n",
       "      <td>0.53</td>\n",
       "      <td>2</td>\n",
       "      <td>0</td>\n",
       "    </tr>\n",
       "    <tr>\n",
       "      <th>25778</th>\n",
       "      <td>20624541</td>\n",
       "      <td>Modern apartment in the heart of Williamsburg</td>\n",
       "      <td>10132166</td>\n",
       "      <td>Aymeric</td>\n",
       "      <td>Brooklyn</td>\n",
       "      <td>Williamsburg</td>\n",
       "      <td>40.70838</td>\n",
       "      <td>-73.94645</td>\n",
       "      <td>Entire home/apt</td>\n",
       "      <td>0</td>\n",
       "      <td>5</td>\n",
       "      <td>3</td>\n",
       "      <td>2018-01-02</td>\n",
       "      <td>0.15</td>\n",
       "      <td>1</td>\n",
       "      <td>73</td>\n",
       "    </tr>\n",
       "    <tr>\n",
       "      <th>25794</th>\n",
       "      <td>20639628</td>\n",
       "      <td>Spacious comfortable master bedroom with nice ...</td>\n",
       "      <td>86327101</td>\n",
       "      <td>Adeyemi</td>\n",
       "      <td>Brooklyn</td>\n",
       "      <td>Bedford-Stuyvesant</td>\n",
       "      <td>40.68173</td>\n",
       "      <td>-73.91342</td>\n",
       "      <td>Private room</td>\n",
       "      <td>0</td>\n",
       "      <td>1</td>\n",
       "      <td>93</td>\n",
       "      <td>2019-06-15</td>\n",
       "      <td>4.28</td>\n",
       "      <td>6</td>\n",
       "      <td>176</td>\n",
       "    </tr>\n",
       "    <tr>\n",
       "      <th>25795</th>\n",
       "      <td>20639792</td>\n",
       "      <td>Contemporary bedroom in brownstone with nice view</td>\n",
       "      <td>86327101</td>\n",
       "      <td>Adeyemi</td>\n",
       "      <td>Brooklyn</td>\n",
       "      <td>Bedford-Stuyvesant</td>\n",
       "      <td>40.68279</td>\n",
       "      <td>-73.91170</td>\n",
       "      <td>Private room</td>\n",
       "      <td>0</td>\n",
       "      <td>1</td>\n",
       "      <td>95</td>\n",
       "      <td>2019-06-21</td>\n",
       "      <td>4.37</td>\n",
       "      <td>6</td>\n",
       "      <td>232</td>\n",
       "    </tr>\n",
       "    <tr>\n",
       "      <th>25796</th>\n",
       "      <td>20639914</td>\n",
       "      <td>Cozy yet spacious private brownstone bedroom</td>\n",
       "      <td>86327101</td>\n",
       "      <td>Adeyemi</td>\n",
       "      <td>Brooklyn</td>\n",
       "      <td>Bedford-Stuyvesant</td>\n",
       "      <td>40.68258</td>\n",
       "      <td>-73.91284</td>\n",
       "      <td>Private room</td>\n",
       "      <td>0</td>\n",
       "      <td>1</td>\n",
       "      <td>95</td>\n",
       "      <td>2019-06-23</td>\n",
       "      <td>4.35</td>\n",
       "      <td>6</td>\n",
       "      <td>222</td>\n",
       "    </tr>\n",
       "    <tr>\n",
       "      <th>26259</th>\n",
       "      <td>20933849</td>\n",
       "      <td>the best you can find</td>\n",
       "      <td>13709292</td>\n",
       "      <td>Qiuchi</td>\n",
       "      <td>Manhattan</td>\n",
       "      <td>Murray Hill</td>\n",
       "      <td>40.75091</td>\n",
       "      <td>-73.97597</td>\n",
       "      <td>Entire home/apt</td>\n",
       "      <td>0</td>\n",
       "      <td>3</td>\n",
       "      <td>0</td>\n",
       "      <td>NaN</td>\n",
       "      <td>NaN</td>\n",
       "      <td>1</td>\n",
       "      <td>0</td>\n",
       "    </tr>\n",
       "    <tr>\n",
       "      <th>26841</th>\n",
       "      <td>21291569</td>\n",
       "      <td>Coliving in Brooklyn! Modern design / Shared room</td>\n",
       "      <td>101970559</td>\n",
       "      <td>Sergii</td>\n",
       "      <td>Brooklyn</td>\n",
       "      <td>Bushwick</td>\n",
       "      <td>40.69211</td>\n",
       "      <td>-73.90670</td>\n",
       "      <td>Shared room</td>\n",
       "      <td>0</td>\n",
       "      <td>30</td>\n",
       "      <td>2</td>\n",
       "      <td>2019-06-22</td>\n",
       "      <td>0.11</td>\n",
       "      <td>6</td>\n",
       "      <td>333</td>\n",
       "    </tr>\n",
       "    <tr>\n",
       "      <th>26866</th>\n",
       "      <td>21304320</td>\n",
       "      <td>Best Coliving space ever! Shared room.</td>\n",
       "      <td>101970559</td>\n",
       "      <td>Sergii</td>\n",
       "      <td>Brooklyn</td>\n",
       "      <td>Bushwick</td>\n",
       "      <td>40.69166</td>\n",
       "      <td>-73.90928</td>\n",
       "      <td>Shared room</td>\n",
       "      <td>0</td>\n",
       "      <td>30</td>\n",
       "      <td>5</td>\n",
       "      <td>2019-05-24</td>\n",
       "      <td>0.26</td>\n",
       "      <td>6</td>\n",
       "      <td>139</td>\n",
       "    </tr>\n",
       "  </tbody>\n",
       "</table>\n",
       "</div>"
      ],
      "text/plain": [
       "             id                                               name    host_id  \\\n",
       "23161  18750597  Huge Brooklyn Brownstone Living, Close to it all.    8993084   \n",
       "25433  20333471      ★Hostel Style Room | Ideal Traveling Buddies★  131697576   \n",
       "25634  20523843    MARTIAL LOFT 3: REDEMPTION (upstairs, 2nd room)   15787004   \n",
       "25753  20608117                    Sunny, Quiet Room in Greenpoint    1641537   \n",
       "25778  20624541      Modern apartment in the heart of Williamsburg   10132166   \n",
       "25794  20639628  Spacious comfortable master bedroom with nice ...   86327101   \n",
       "25795  20639792  Contemporary bedroom in brownstone with nice view   86327101   \n",
       "25796  20639914       Cozy yet spacious private brownstone bedroom   86327101   \n",
       "26259  20933849                              the best you can find   13709292   \n",
       "26841  21291569  Coliving in Brooklyn! Modern design / Shared room  101970559   \n",
       "26866  21304320             Best Coliving space ever! Shared room.  101970559   \n",
       "\n",
       "          host_name neighbourhood_group       neighbourhood  latitude  \\\n",
       "23161      Kimberly            Brooklyn  Bedford-Stuyvesant  40.69023   \n",
       "25433        Anisha               Bronx     East Morrisania  40.83296   \n",
       "25634  Martial Loft            Brooklyn            Bushwick  40.69467   \n",
       "25753        Lauren            Brooklyn          Greenpoint  40.72462   \n",
       "25778       Aymeric            Brooklyn        Williamsburg  40.70838   \n",
       "25794       Adeyemi            Brooklyn  Bedford-Stuyvesant  40.68173   \n",
       "25795       Adeyemi            Brooklyn  Bedford-Stuyvesant  40.68279   \n",
       "25796       Adeyemi            Brooklyn  Bedford-Stuyvesant  40.68258   \n",
       "26259        Qiuchi           Manhattan         Murray Hill  40.75091   \n",
       "26841        Sergii            Brooklyn            Bushwick  40.69211   \n",
       "26866        Sergii            Brooklyn            Bushwick  40.69166   \n",
       "\n",
       "       longitude        room_type  price  minimum_nights  number_of_reviews  \\\n",
       "23161  -73.95428     Private room      0               4                  1   \n",
       "25433  -73.88668     Private room      0               2                 55   \n",
       "25634  -73.92433     Private room      0               2                 16   \n",
       "25753  -73.94072     Private room      0               2                 12   \n",
       "25778  -73.94645  Entire home/apt      0               5                  3   \n",
       "25794  -73.91342     Private room      0               1                 93   \n",
       "25795  -73.91170     Private room      0               1                 95   \n",
       "25796  -73.91284     Private room      0               1                 95   \n",
       "26259  -73.97597  Entire home/apt      0               3                  0   \n",
       "26841  -73.90670      Shared room      0              30                  2   \n",
       "26866  -73.90928      Shared room      0              30                  5   \n",
       "\n",
       "      last_review  reviews_per_month  calculated_host_listings_count  \\\n",
       "23161  2018-01-06               0.05                               4   \n",
       "25433  2019-06-24               2.56                               4   \n",
       "25634  2019-05-18               0.71                               5   \n",
       "25753  2017-10-27               0.53                               2   \n",
       "25778  2018-01-02               0.15                               1   \n",
       "25794  2019-06-15               4.28                               6   \n",
       "25795  2019-06-21               4.37                               6   \n",
       "25796  2019-06-23               4.35                               6   \n",
       "26259         NaN                NaN                               1   \n",
       "26841  2019-06-22               0.11                               6   \n",
       "26866  2019-05-24               0.26                               6   \n",
       "\n",
       "       availability_365  \n",
       "23161                28  \n",
       "25433               127  \n",
       "25634                 0  \n",
       "25753                 0  \n",
       "25778                73  \n",
       "25794               176  \n",
       "25795               232  \n",
       "25796               222  \n",
       "26259                 0  \n",
       "26841               333  \n",
       "26866               139  "
      ]
     },
     "execution_count": 157,
     "metadata": {},
     "output_type": "execute_result"
    }
   ],
   "source": [
    "(\n",
    "    airbnb\n",
    "    .loc[lambda df_: df_.price.le(0)]\n",
    ")"
   ]
  },
  {
   "cell_type": "code",
   "execution_count": 158,
   "id": "69e74c6b-c6be-45e1-9a36-1a8e172e6430",
   "metadata": {},
   "outputs": [
    {
     "data": {
      "text/plain": [
       "id                                                            7003697\n",
       "name                              Furnished room in Astoria apartment\n",
       "host_id                                                      20582832\n",
       "host_name                                                    Kathrine\n",
       "neighbourhood_group                                            Queens\n",
       "neighbourhood                                                 Astoria\n",
       "latitude                                                      40.7681\n",
       "longitude                                                   -73.91651\n",
       "room_type                                                Private room\n",
       "price                                                           10000\n",
       "minimum_nights                                                    100\n",
       "number_of_reviews                                                   2\n",
       "last_review                                                2016-02-13\n",
       "reviews_per_month                                                0.04\n",
       "calculated_host_listings_count                                      1\n",
       "availability_365                                                    0\n",
       "Name: 9151, dtype: object"
      ]
     },
     "execution_count": 158,
     "metadata": {},
     "output_type": "execute_result"
    }
   ],
   "source": [
    "airbnb.loc[lambda df_: df_.price.idxmax()]"
   ]
  },
  {
   "cell_type": "code",
   "execution_count": 159,
   "id": "2d1f2776-cf57-4b40-ab05-65c9d2aac9a4",
   "metadata": {},
   "outputs": [
    {
     "data": {
      "text/plain": [
       "np.int64(10000)"
      ]
     },
     "execution_count": 159,
     "metadata": {},
     "output_type": "execute_result"
    }
   ],
   "source": [
    "airbnb.price.max()"
   ]
  },
  {
   "cell_type": "code",
   "execution_count": 160,
   "id": "0cd3f30b-f0b8-45fe-bfad-4e86eca14f3f",
   "metadata": {},
   "outputs": [
    {
     "data": {
      "text/html": [
       "<div>\n",
       "<style scoped>\n",
       "    .dataframe tbody tr th:only-of-type {\n",
       "        vertical-align: middle;\n",
       "    }\n",
       "\n",
       "    .dataframe tbody tr th {\n",
       "        vertical-align: top;\n",
       "    }\n",
       "\n",
       "    .dataframe thead th {\n",
       "        text-align: right;\n",
       "    }\n",
       "</style>\n",
       "<table border=\"1\" class=\"dataframe\">\n",
       "  <thead>\n",
       "    <tr style=\"text-align: right;\">\n",
       "      <th></th>\n",
       "      <th>id</th>\n",
       "      <th>name</th>\n",
       "      <th>host_id</th>\n",
       "      <th>host_name</th>\n",
       "      <th>neighbourhood_group</th>\n",
       "      <th>neighbourhood</th>\n",
       "      <th>latitude</th>\n",
       "      <th>longitude</th>\n",
       "      <th>room_type</th>\n",
       "      <th>price</th>\n",
       "      <th>minimum_nights</th>\n",
       "      <th>number_of_reviews</th>\n",
       "      <th>last_review</th>\n",
       "      <th>reviews_per_month</th>\n",
       "      <th>calculated_host_listings_count</th>\n",
       "      <th>availability_365</th>\n",
       "    </tr>\n",
       "  </thead>\n",
       "  <tbody>\n",
       "    <tr>\n",
       "      <th>9151</th>\n",
       "      <td>7003697</td>\n",
       "      <td>Furnished room in Astoria apartment</td>\n",
       "      <td>20582832</td>\n",
       "      <td>Kathrine</td>\n",
       "      <td>Queens</td>\n",
       "      <td>Astoria</td>\n",
       "      <td>40.76810</td>\n",
       "      <td>-73.91651</td>\n",
       "      <td>Private room</td>\n",
       "      <td>10000</td>\n",
       "      <td>100</td>\n",
       "      <td>2</td>\n",
       "      <td>2016-02-13</td>\n",
       "      <td>0.04</td>\n",
       "      <td>1</td>\n",
       "      <td>0</td>\n",
       "    </tr>\n",
       "    <tr>\n",
       "      <th>17692</th>\n",
       "      <td>13894339</td>\n",
       "      <td>Luxury 1 bedroom apt. -stunning Manhattan views</td>\n",
       "      <td>5143901</td>\n",
       "      <td>Erin</td>\n",
       "      <td>Brooklyn</td>\n",
       "      <td>Greenpoint</td>\n",
       "      <td>40.73260</td>\n",
       "      <td>-73.95739</td>\n",
       "      <td>Entire home/apt</td>\n",
       "      <td>10000</td>\n",
       "      <td>5</td>\n",
       "      <td>5</td>\n",
       "      <td>2017-07-27</td>\n",
       "      <td>0.16</td>\n",
       "      <td>1</td>\n",
       "      <td>0</td>\n",
       "    </tr>\n",
       "    <tr>\n",
       "      <th>29238</th>\n",
       "      <td>22436899</td>\n",
       "      <td>1-BR Lincoln Center</td>\n",
       "      <td>72390391</td>\n",
       "      <td>Jelena</td>\n",
       "      <td>Manhattan</td>\n",
       "      <td>Upper West Side</td>\n",
       "      <td>40.77213</td>\n",
       "      <td>-73.98665</td>\n",
       "      <td>Entire home/apt</td>\n",
       "      <td>10000</td>\n",
       "      <td>30</td>\n",
       "      <td>0</td>\n",
       "      <td>NaN</td>\n",
       "      <td>NaN</td>\n",
       "      <td>1</td>\n",
       "      <td>83</td>\n",
       "    </tr>\n",
       "  </tbody>\n",
       "</table>\n",
       "</div>"
      ],
      "text/plain": [
       "             id                                             name   host_id  \\\n",
       "9151    7003697              Furnished room in Astoria apartment  20582832   \n",
       "17692  13894339  Luxury 1 bedroom apt. -stunning Manhattan views   5143901   \n",
       "29238  22436899                              1-BR Lincoln Center  72390391   \n",
       "\n",
       "      host_name neighbourhood_group    neighbourhood  latitude  longitude  \\\n",
       "9151   Kathrine              Queens          Astoria  40.76810  -73.91651   \n",
       "17692      Erin            Brooklyn       Greenpoint  40.73260  -73.95739   \n",
       "29238    Jelena           Manhattan  Upper West Side  40.77213  -73.98665   \n",
       "\n",
       "             room_type  price  minimum_nights  number_of_reviews last_review  \\\n",
       "9151      Private room  10000             100                  2  2016-02-13   \n",
       "17692  Entire home/apt  10000               5                  5  2017-07-27   \n",
       "29238  Entire home/apt  10000              30                  0         NaN   \n",
       "\n",
       "       reviews_per_month  calculated_host_listings_count  availability_365  \n",
       "9151                0.04                               1                 0  \n",
       "17692               0.16                               1                 0  \n",
       "29238                NaN                               1                83  "
      ]
     },
     "execution_count": 160,
     "metadata": {},
     "output_type": "execute_result"
    }
   ],
   "source": [
    "(\n",
    "    airbnb\n",
    "    .loc[lambda df_: df_.price.ge(10000)]\n",
    ")"
   ]
  },
  {
   "cell_type": "code",
   "execution_count": 161,
   "id": "52dc0808-c7d2-4e1d-b8cd-f7ff3c79167a",
   "metadata": {},
   "outputs": [
    {
     "data": {
      "text/plain": [
       "Index([23161, 25433, 25634, 25753, 25778, 25794, 25795, 25796, 26259, 26841,\n",
       "       26866],\n",
       "      dtype='int64')"
      ]
     },
     "execution_count": 161,
     "metadata": {},
     "output_type": "execute_result"
    }
   ],
   "source": [
    "# indexes to drop\n",
    "airbnb.loc[lambda df_: df_.price.le(0)].index"
   ]
  },
  {
   "cell_type": "markdown",
   "id": "965c30e8-2630-4c02-9918-549462b19ccb",
   "metadata": {
    "jp-MarkdownHeadingCollapsed": true
   },
   "source": [
    "### `minimum_nights`"
   ]
  },
  {
   "cell_type": "code",
   "execution_count": 162,
   "id": "a45a1414-498e-4e24-9d57-41c54293eb9f",
   "metadata": {},
   "outputs": [
    {
     "data": {
      "text/plain": [
       "0         1\n",
       "1         1\n",
       "2         3\n",
       "3         1\n",
       "4        10\n",
       "         ..\n",
       "48890     2\n",
       "48891     4\n",
       "48892    10\n",
       "48893     1\n",
       "48894     7\n",
       "Name: minimum_nights, Length: 48895, dtype: int64"
      ]
     },
     "execution_count": 162,
     "metadata": {},
     "output_type": "execute_result"
    }
   ],
   "source": [
    "airbnb.minimum_nights"
   ]
  },
  {
   "cell_type": "code",
   "execution_count": 163,
   "id": "ed9b11da-a6aa-4d7a-8bed-e45b02f1511f",
   "metadata": {},
   "outputs": [
    {
     "data": {
      "text/plain": [
       "np.int64(0)"
      ]
     },
     "execution_count": 163,
     "metadata": {},
     "output_type": "execute_result"
    }
   ],
   "source": [
    "airbnb.minimum_nights.le(0).sum()"
   ]
  },
  {
   "cell_type": "code",
   "execution_count": 164,
   "id": "24435a2c-daf0-43b8-bc6f-7656f0da4545",
   "metadata": {},
   "outputs": [
    {
     "data": {
      "text/plain": [
       "array([   1,    3,   10,   45,    2,    5,    4,   90,    7,   14,   60,\n",
       "         29,   30,  180,    9,   31,    6,   15,    8,   26,   28,  200,\n",
       "         50,   17,   21,   11,   25,   13,   35,   27,   18,   20,   40,\n",
       "         44,   65,   55,  120,  365,  122,   19,  240,   88,  115,  150,\n",
       "        370,   16,   80,  181,  265,  300,   59,  185,  360,   56,   12,\n",
       "         70,   39,   24,   32, 1000,  110,  270,   22,   75,  250,   62,\n",
       "         23, 1250,  364,   74,  198,  100,  500,   43,   91,  480,   53,\n",
       "         99,  160,   47,  999,  186,  366,   68,   93,   87,  183,  299,\n",
       "        175,   98,  133,  354,   42,   33,   37,  225,  400,  105,  184,\n",
       "        153,  134,  222,   58,  210,  275,  182,  114,   85,   36])"
      ]
     },
     "execution_count": 164,
     "metadata": {},
     "output_type": "execute_result"
    }
   ],
   "source": [
    "airbnb.minimum_nights.unique()"
   ]
  },
  {
   "cell_type": "code",
   "execution_count": 165,
   "id": "1b782560-a330-40b4-8289-aab36d8a8c30",
   "metadata": {},
   "outputs": [
    {
     "data": {
      "text/html": [
       "<div>\n",
       "<style scoped>\n",
       "    .dataframe tbody tr th:only-of-type {\n",
       "        vertical-align: middle;\n",
       "    }\n",
       "\n",
       "    .dataframe tbody tr th {\n",
       "        vertical-align: top;\n",
       "    }\n",
       "\n",
       "    .dataframe thead th {\n",
       "        text-align: right;\n",
       "    }\n",
       "</style>\n",
       "<table border=\"1\" class=\"dataframe\">\n",
       "  <thead>\n",
       "    <tr style=\"text-align: right;\">\n",
       "      <th></th>\n",
       "      <th>id</th>\n",
       "      <th>name</th>\n",
       "      <th>host_id</th>\n",
       "      <th>host_name</th>\n",
       "      <th>neighbourhood_group</th>\n",
       "      <th>neighbourhood</th>\n",
       "      <th>latitude</th>\n",
       "      <th>longitude</th>\n",
       "      <th>room_type</th>\n",
       "      <th>price</th>\n",
       "      <th>minimum_nights</th>\n",
       "      <th>number_of_reviews</th>\n",
       "      <th>last_review</th>\n",
       "      <th>reviews_per_month</th>\n",
       "      <th>calculated_host_listings_count</th>\n",
       "      <th>availability_365</th>\n",
       "    </tr>\n",
       "  </thead>\n",
       "  <tbody>\n",
       "    <tr>\n",
       "      <th>2854</th>\n",
       "      <td>1615764</td>\n",
       "      <td>NaN</td>\n",
       "      <td>6676776</td>\n",
       "      <td>Peter</td>\n",
       "      <td>Manhattan</td>\n",
       "      <td>Battery Park City</td>\n",
       "      <td>40.71239</td>\n",
       "      <td>-74.01620</td>\n",
       "      <td>Entire home/apt</td>\n",
       "      <td>400</td>\n",
       "      <td>1000</td>\n",
       "      <td>0</td>\n",
       "      <td>NaN</td>\n",
       "      <td>NaN</td>\n",
       "      <td>1</td>\n",
       "      <td>362</td>\n",
       "    </tr>\n",
       "    <tr>\n",
       "      <th>5767</th>\n",
       "      <td>4204302</td>\n",
       "      <td>Prime W. Village location 1 bdrm</td>\n",
       "      <td>17550546</td>\n",
       "      <td>Genevieve</td>\n",
       "      <td>Manhattan</td>\n",
       "      <td>Greenwich Village</td>\n",
       "      <td>40.73293</td>\n",
       "      <td>-73.99782</td>\n",
       "      <td>Entire home/apt</td>\n",
       "      <td>180</td>\n",
       "      <td>1250</td>\n",
       "      <td>2</td>\n",
       "      <td>2014-11-09</td>\n",
       "      <td>0.03</td>\n",
       "      <td>1</td>\n",
       "      <td>365</td>\n",
       "    </tr>\n",
       "    <tr>\n",
       "      <th>7355</th>\n",
       "      <td>5431845</td>\n",
       "      <td>Beautiful Fully Furnished 1 bed/bth</td>\n",
       "      <td>3680008</td>\n",
       "      <td>Aliya</td>\n",
       "      <td>Queens</td>\n",
       "      <td>Long Island City</td>\n",
       "      <td>40.75104</td>\n",
       "      <td>-73.93863</td>\n",
       "      <td>Entire home/apt</td>\n",
       "      <td>134</td>\n",
       "      <td>500</td>\n",
       "      <td>30</td>\n",
       "      <td>2018-06-24</td>\n",
       "      <td>0.57</td>\n",
       "      <td>1</td>\n",
       "      <td>90</td>\n",
       "    </tr>\n",
       "    <tr>\n",
       "      <th>8014</th>\n",
       "      <td>6169897</td>\n",
       "      <td>Wonderful Large 1 bedroom</td>\n",
       "      <td>10720264</td>\n",
       "      <td>John</td>\n",
       "      <td>Manhattan</td>\n",
       "      <td>Harlem</td>\n",
       "      <td>40.82135</td>\n",
       "      <td>-73.95521</td>\n",
       "      <td>Entire home/apt</td>\n",
       "      <td>75</td>\n",
       "      <td>500</td>\n",
       "      <td>0</td>\n",
       "      <td>NaN</td>\n",
       "      <td>NaN</td>\n",
       "      <td>1</td>\n",
       "      <td>362</td>\n",
       "    </tr>\n",
       "    <tr>\n",
       "      <th>10829</th>\n",
       "      <td>8341919</td>\n",
       "      <td>Brand New Luxury Apt Lease Takeover</td>\n",
       "      <td>43945071</td>\n",
       "      <td>Shining</td>\n",
       "      <td>Queens</td>\n",
       "      <td>Long Island City</td>\n",
       "      <td>40.74654</td>\n",
       "      <td>-73.95778</td>\n",
       "      <td>Entire home/apt</td>\n",
       "      <td>199</td>\n",
       "      <td>480</td>\n",
       "      <td>0</td>\n",
       "      <td>NaN</td>\n",
       "      <td>NaN</td>\n",
       "      <td>1</td>\n",
       "      <td>365</td>\n",
       "    </tr>\n",
       "    <tr>\n",
       "      <th>11193</th>\n",
       "      <td>8668115</td>\n",
       "      <td>Zen Room in Crown Heights Brooklyn</td>\n",
       "      <td>8996336</td>\n",
       "      <td>Laura</td>\n",
       "      <td>Brooklyn</td>\n",
       "      <td>Crown Heights</td>\n",
       "      <td>40.67255</td>\n",
       "      <td>-73.94914</td>\n",
       "      <td>Private room</td>\n",
       "      <td>50</td>\n",
       "      <td>500</td>\n",
       "      <td>10</td>\n",
       "      <td>2016-09-22</td>\n",
       "      <td>0.22</td>\n",
       "      <td>1</td>\n",
       "      <td>365</td>\n",
       "    </tr>\n",
       "    <tr>\n",
       "      <th>13404</th>\n",
       "      <td>10053943</td>\n",
       "      <td>Historic Designer 2 Bed. Apartment</td>\n",
       "      <td>2697686</td>\n",
       "      <td>Glenn H.</td>\n",
       "      <td>Manhattan</td>\n",
       "      <td>Harlem</td>\n",
       "      <td>40.82915</td>\n",
       "      <td>-73.94034</td>\n",
       "      <td>Entire home/apt</td>\n",
       "      <td>99</td>\n",
       "      <td>999</td>\n",
       "      <td>2</td>\n",
       "      <td>2018-01-04</td>\n",
       "      <td>0.07</td>\n",
       "      <td>1</td>\n",
       "      <td>42</td>\n",
       "    </tr>\n",
       "    <tr>\n",
       "      <th>14285</th>\n",
       "      <td>11096888</td>\n",
       "      <td>Peaceful apartment close to F/G</td>\n",
       "      <td>2228137</td>\n",
       "      <td>Amanda</td>\n",
       "      <td>Brooklyn</td>\n",
       "      <td>Kensington</td>\n",
       "      <td>40.64779</td>\n",
       "      <td>-73.97956</td>\n",
       "      <td>Private room</td>\n",
       "      <td>45</td>\n",
       "      <td>500</td>\n",
       "      <td>0</td>\n",
       "      <td>NaN</td>\n",
       "      <td>NaN</td>\n",
       "      <td>1</td>\n",
       "      <td>358</td>\n",
       "    </tr>\n",
       "    <tr>\n",
       "      <th>26341</th>\n",
       "      <td>20990053</td>\n",
       "      <td>Beautiful place in Brooklyn! #2</td>\n",
       "      <td>151084261</td>\n",
       "      <td>Angie</td>\n",
       "      <td>Brooklyn</td>\n",
       "      <td>Williamsburg</td>\n",
       "      <td>40.71772</td>\n",
       "      <td>-73.95059</td>\n",
       "      <td>Private room</td>\n",
       "      <td>79</td>\n",
       "      <td>999</td>\n",
       "      <td>24</td>\n",
       "      <td>2018-06-28</td>\n",
       "      <td>1.12</td>\n",
       "      <td>6</td>\n",
       "      <td>249</td>\n",
       "    </tr>\n",
       "    <tr>\n",
       "      <th>34487</th>\n",
       "      <td>27362309</td>\n",
       "      <td>Not available</td>\n",
       "      <td>14621589</td>\n",
       "      <td>Sol</td>\n",
       "      <td>Brooklyn</td>\n",
       "      <td>Bedford-Stuyvesant</td>\n",
       "      <td>40.69974</td>\n",
       "      <td>-73.94658</td>\n",
       "      <td>Private room</td>\n",
       "      <td>50</td>\n",
       "      <td>400</td>\n",
       "      <td>0</td>\n",
       "      <td>NaN</td>\n",
       "      <td>NaN</td>\n",
       "      <td>1</td>\n",
       "      <td>90</td>\n",
       "    </tr>\n",
       "    <tr>\n",
       "      <th>38664</th>\n",
       "      <td>30378211</td>\n",
       "      <td>Shared Studio (females only)</td>\n",
       "      <td>200401254</td>\n",
       "      <td>Meg</td>\n",
       "      <td>Manhattan</td>\n",
       "      <td>Greenwich Village</td>\n",
       "      <td>40.73094</td>\n",
       "      <td>-73.99900</td>\n",
       "      <td>Shared room</td>\n",
       "      <td>110</td>\n",
       "      <td>999</td>\n",
       "      <td>0</td>\n",
       "      <td>NaN</td>\n",
       "      <td>NaN</td>\n",
       "      <td>1</td>\n",
       "      <td>365</td>\n",
       "    </tr>\n",
       "    <tr>\n",
       "      <th>47620</th>\n",
       "      <td>35834935</td>\n",
       "      <td>Williamsburg Apartment</td>\n",
       "      <td>82674375</td>\n",
       "      <td>Meg</td>\n",
       "      <td>Brooklyn</td>\n",
       "      <td>Williamsburg</td>\n",
       "      <td>40.70898</td>\n",
       "      <td>-73.94885</td>\n",
       "      <td>Entire home/apt</td>\n",
       "      <td>140</td>\n",
       "      <td>500</td>\n",
       "      <td>0</td>\n",
       "      <td>NaN</td>\n",
       "      <td>NaN</td>\n",
       "      <td>1</td>\n",
       "      <td>331</td>\n",
       "    </tr>\n",
       "  </tbody>\n",
       "</table>\n",
       "</div>"
      ],
      "text/plain": [
       "             id                                 name    host_id  host_name  \\\n",
       "2854    1615764                                  NaN    6676776      Peter   \n",
       "5767    4204302     Prime W. Village location 1 bdrm   17550546  Genevieve   \n",
       "7355    5431845  Beautiful Fully Furnished 1 bed/bth    3680008      Aliya   \n",
       "8014    6169897            Wonderful Large 1 bedroom   10720264       John   \n",
       "10829   8341919  Brand New Luxury Apt Lease Takeover   43945071    Shining   \n",
       "11193   8668115   Zen Room in Crown Heights Brooklyn    8996336      Laura   \n",
       "13404  10053943   Historic Designer 2 Bed. Apartment    2697686   Glenn H.   \n",
       "14285  11096888      Peaceful apartment close to F/G    2228137     Amanda   \n",
       "26341  20990053      Beautiful place in Brooklyn! #2  151084261      Angie   \n",
       "34487  27362309                        Not available   14621589        Sol   \n",
       "38664  30378211         Shared Studio (females only)  200401254        Meg   \n",
       "47620  35834935               Williamsburg Apartment   82674375        Meg   \n",
       "\n",
       "      neighbourhood_group       neighbourhood  latitude  longitude  \\\n",
       "2854            Manhattan   Battery Park City  40.71239  -74.01620   \n",
       "5767            Manhattan   Greenwich Village  40.73293  -73.99782   \n",
       "7355               Queens    Long Island City  40.75104  -73.93863   \n",
       "8014            Manhattan              Harlem  40.82135  -73.95521   \n",
       "10829              Queens    Long Island City  40.74654  -73.95778   \n",
       "11193            Brooklyn       Crown Heights  40.67255  -73.94914   \n",
       "13404           Manhattan              Harlem  40.82915  -73.94034   \n",
       "14285            Brooklyn          Kensington  40.64779  -73.97956   \n",
       "26341            Brooklyn        Williamsburg  40.71772  -73.95059   \n",
       "34487            Brooklyn  Bedford-Stuyvesant  40.69974  -73.94658   \n",
       "38664           Manhattan   Greenwich Village  40.73094  -73.99900   \n",
       "47620            Brooklyn        Williamsburg  40.70898  -73.94885   \n",
       "\n",
       "             room_type  price  minimum_nights  number_of_reviews last_review  \\\n",
       "2854   Entire home/apt    400            1000                  0         NaN   \n",
       "5767   Entire home/apt    180            1250                  2  2014-11-09   \n",
       "7355   Entire home/apt    134             500                 30  2018-06-24   \n",
       "8014   Entire home/apt     75             500                  0         NaN   \n",
       "10829  Entire home/apt    199             480                  0         NaN   \n",
       "11193     Private room     50             500                 10  2016-09-22   \n",
       "13404  Entire home/apt     99             999                  2  2018-01-04   \n",
       "14285     Private room     45             500                  0         NaN   \n",
       "26341     Private room     79             999                 24  2018-06-28   \n",
       "34487     Private room     50             400                  0         NaN   \n",
       "38664      Shared room    110             999                  0         NaN   \n",
       "47620  Entire home/apt    140             500                  0         NaN   \n",
       "\n",
       "       reviews_per_month  calculated_host_listings_count  availability_365  \n",
       "2854                 NaN                               1               362  \n",
       "5767                0.03                               1               365  \n",
       "7355                0.57                               1                90  \n",
       "8014                 NaN                               1               362  \n",
       "10829                NaN                               1               365  \n",
       "11193               0.22                               1               365  \n",
       "13404               0.07                               1                42  \n",
       "14285                NaN                               1               358  \n",
       "26341               1.12                               6               249  \n",
       "34487                NaN                               1                90  \n",
       "38664                NaN                               1               365  \n",
       "47620                NaN                               1               331  "
      ]
     },
     "execution_count": 165,
     "metadata": {},
     "output_type": "execute_result"
    }
   ],
   "source": [
    "(\n",
    "    airbnb\n",
    "    .loc[lambda df_: df_.minimum_nights.gt(370)]\n",
    ")"
   ]
  },
  {
   "cell_type": "markdown",
   "id": "f31c39df-8c3e-4e2b-afa6-b5988e923be9",
   "metadata": {
    "jp-MarkdownHeadingCollapsed": true
   },
   "source": [
    "### `number_of_reviews`"
   ]
  },
  {
   "cell_type": "code",
   "execution_count": 166,
   "id": "ff16b623-129b-4e99-ad66-4e5de6e345af",
   "metadata": {},
   "outputs": [
    {
     "data": {
      "text/plain": [
       "0          9\n",
       "1         45\n",
       "2          0\n",
       "3        270\n",
       "4          9\n",
       "        ... \n",
       "48890      0\n",
       "48891      0\n",
       "48892      0\n",
       "48893      0\n",
       "48894      0\n",
       "Name: number_of_reviews, Length: 48895, dtype: int64"
      ]
     },
     "execution_count": 166,
     "metadata": {},
     "output_type": "execute_result"
    }
   ],
   "source": [
    "airbnb.number_of_reviews"
   ]
  },
  {
   "cell_type": "code",
   "execution_count": 167,
   "id": "ca0d6b54-21e7-42dc-a74b-11159cb1f55d",
   "metadata": {},
   "outputs": [
    {
     "data": {
      "text/plain": [
       "number_of_reviews\n",
       "0      10052\n",
       "1       5244\n",
       "2       3465\n",
       "3       2520\n",
       "4       1994\n",
       "       ...  \n",
       "372        1\n",
       "299        1\n",
       "436        1\n",
       "310        1\n",
       "341        1\n",
       "Name: count, Length: 394, dtype: int64"
      ]
     },
     "execution_count": 167,
     "metadata": {},
     "output_type": "execute_result"
    }
   ],
   "source": [
    "airbnb.number_of_reviews.value_counts()"
   ]
  },
  {
   "cell_type": "markdown",
   "id": "2223454b-a239-492b-bc55-2fc21bb211ac",
   "metadata": {
    "jp-MarkdownHeadingCollapsed": true
   },
   "source": [
    "### `last_review`"
   ]
  },
  {
   "cell_type": "code",
   "execution_count": 168,
   "id": "1d87b860-769b-4196-9c56-aa69d3e0e622",
   "metadata": {},
   "outputs": [
    {
     "data": {
      "text/plain": [
       "0        2018-10-19\n",
       "1        2019-05-21\n",
       "2               NaN\n",
       "3        2019-07-05\n",
       "4        2018-11-19\n",
       "            ...    \n",
       "48890           NaN\n",
       "48891           NaN\n",
       "48892           NaN\n",
       "48893           NaN\n",
       "48894           NaN\n",
       "Name: last_review, Length: 48895, dtype: object"
      ]
     },
     "execution_count": 168,
     "metadata": {},
     "output_type": "execute_result"
    }
   ],
   "source": [
    "airbnb.last_review"
   ]
  },
  {
   "cell_type": "code",
   "execution_count": 169,
   "id": "524ab1f5-5720-472b-9d2f-9fae829df0c9",
   "metadata": {},
   "outputs": [
    {
     "data": {
      "text/plain": [
       "0       2018-10-19\n",
       "1       2019-05-21\n",
       "2              NaT\n",
       "3       2019-07-05\n",
       "4       2018-11-19\n",
       "           ...    \n",
       "48890          NaT\n",
       "48891          NaT\n",
       "48892          NaT\n",
       "48893          NaT\n",
       "48894          NaT\n",
       "Name: last_review, Length: 48895, dtype: datetime64[ns]"
      ]
     },
     "execution_count": 169,
     "metadata": {},
     "output_type": "execute_result"
    }
   ],
   "source": [
    "pd.to_datetime(airbnb.last_review)"
   ]
  },
  {
   "cell_type": "markdown",
   "id": "1a1c57e4-eefa-47d3-bf15-a3e3b83bcf1a",
   "metadata": {
    "jp-MarkdownHeadingCollapsed": true
   },
   "source": [
    "### `reviews_per_month`"
   ]
  },
  {
   "cell_type": "code",
   "execution_count": 170,
   "id": "1db1463b-663b-42ed-b76f-ca3bef336c35",
   "metadata": {},
   "outputs": [
    {
     "data": {
      "text/plain": [
       "0        0.21\n",
       "1        0.38\n",
       "2         NaN\n",
       "3        4.64\n",
       "4        0.10\n",
       "         ... \n",
       "48890     NaN\n",
       "48891     NaN\n",
       "48892     NaN\n",
       "48893     NaN\n",
       "48894     NaN\n",
       "Name: reviews_per_month, Length: 48895, dtype: float64"
      ]
     },
     "execution_count": 170,
     "metadata": {},
     "output_type": "execute_result"
    }
   ],
   "source": [
    "airbnb.reviews_per_month"
   ]
  },
  {
   "cell_type": "code",
   "execution_count": 171,
   "id": "45f8c855-748d-4eee-9826-57b93fbc5e9d",
   "metadata": {},
   "outputs": [
    {
     "data": {
      "text/plain": [
       "np.float64(0.01)"
      ]
     },
     "execution_count": 171,
     "metadata": {},
     "output_type": "execute_result"
    }
   ],
   "source": [
    "airbnb.reviews_per_month.min()"
   ]
  },
  {
   "cell_type": "code",
   "execution_count": 172,
   "id": "f26bdf97-cd0c-440b-9fd6-dd18bcc1ffa0",
   "metadata": {},
   "outputs": [
    {
     "data": {
      "text/plain": [
       "np.float64(58.5)"
      ]
     },
     "execution_count": 172,
     "metadata": {},
     "output_type": "execute_result"
    }
   ],
   "source": [
    "airbnb.reviews_per_month.max()"
   ]
  },
  {
   "cell_type": "markdown",
   "id": "f039f916-0ef1-4ae3-aff9-03429bcfec60",
   "metadata": {
    "jp-MarkdownHeadingCollapsed": true
   },
   "source": [
    "### `calculated_host_listings_count`"
   ]
  },
  {
   "cell_type": "code",
   "execution_count": 173,
   "id": "c3e38c5b-ee71-4459-8018-3f50cdbc426d",
   "metadata": {},
   "outputs": [
    {
     "data": {
      "text/plain": [
       "0        6\n",
       "1        2\n",
       "2        1\n",
       "3        1\n",
       "4        1\n",
       "        ..\n",
       "48890    2\n",
       "48891    2\n",
       "48892    1\n",
       "48893    6\n",
       "48894    1\n",
       "Name: calculated_host_listings_count, Length: 48895, dtype: int64"
      ]
     },
     "execution_count": 173,
     "metadata": {},
     "output_type": "execute_result"
    }
   ],
   "source": [
    "airbnb.calculated_host_listings_count"
   ]
  },
  {
   "cell_type": "code",
   "execution_count": 174,
   "id": "8d02941c-fbba-4e10-8a4d-4ad810a923c2",
   "metadata": {},
   "outputs": [
    {
     "data": {
      "text/plain": [
       "np.int64(327)"
      ]
     },
     "execution_count": 174,
     "metadata": {},
     "output_type": "execute_result"
    }
   ],
   "source": [
    "airbnb.calculated_host_listings_count.max()"
   ]
  },
  {
   "cell_type": "code",
   "execution_count": 175,
   "id": "69d23abf-4161-45b7-9fa2-063426694943",
   "metadata": {},
   "outputs": [
    {
     "data": {
      "text/plain": [
       "np.int64(1)"
      ]
     },
     "execution_count": 175,
     "metadata": {},
     "output_type": "execute_result"
    }
   ],
   "source": [
    "airbnb.calculated_host_listings_count.min()"
   ]
  },
  {
   "cell_type": "code",
   "execution_count": 176,
   "id": "9a757932-3dd6-42cd-8bd3-502a1dde2a70",
   "metadata": {},
   "outputs": [],
   "source": [
    "# (\n",
    "#     airbnb\n",
    "#     .assign(\n",
    "#         host_type=lambda df_: np.select(\n",
    "#             [\n",
    "#                 df_.calculated_host_listings_count == 1,\n",
    "#                 df_.calculated_host_listings_count <= 3,\n",
    "#                 df_.calculated_host_listings_count <= 10,\n",
    "#             ],\n",
    "#             [\n",
    "#                 'new_host',\n",
    "#                 'casual_host',\n",
    "#                 'experienced_host'\n",
    "#             ],\n",
    "#             default='professional_host'\n",
    "#         )\n",
    "#     )\n",
    "# )"
   ]
  },
  {
   "cell_type": "markdown",
   "id": "04a78591-6c4d-4d10-a3c0-508b5d9d2522",
   "metadata": {
    "jp-MarkdownHeadingCollapsed": true
   },
   "source": [
    "### `availability_365`"
   ]
  },
  {
   "cell_type": "code",
   "execution_count": 177,
   "id": "dcd3f1f1-2da9-4731-845d-3706161f0ac1",
   "metadata": {},
   "outputs": [
    {
     "data": {
      "text/plain": [
       "0        365\n",
       "1        355\n",
       "2        365\n",
       "3        194\n",
       "4          0\n",
       "        ... \n",
       "48890      9\n",
       "48891     36\n",
       "48892     27\n",
       "48893      2\n",
       "48894     23\n",
       "Name: availability_365, Length: 48895, dtype: int64"
      ]
     },
     "execution_count": 177,
     "metadata": {},
     "output_type": "execute_result"
    }
   ],
   "source": [
    "airbnb.availability_365"
   ]
  },
  {
   "cell_type": "code",
   "execution_count": 178,
   "id": "785693db-cc29-4e80-ba10-62d1741f3f42",
   "metadata": {},
   "outputs": [
    {
     "data": {
      "text/plain": [
       "availability_365\n",
       "0      17533\n",
       "365     1295\n",
       "364      491\n",
       "1        408\n",
       "89       361\n",
       "       ...  \n",
       "195       26\n",
       "183       24\n",
       "196       24\n",
       "181       23\n",
       "202       20\n",
       "Name: count, Length: 366, dtype: int64"
      ]
     },
     "execution_count": 178,
     "metadata": {},
     "output_type": "execute_result"
    }
   ],
   "source": [
    "airbnb.availability_365.value_counts()"
   ]
  },
  {
   "cell_type": "code",
   "execution_count": 179,
   "id": "e58626a2-71ae-4149-a51f-3b8616b149ba",
   "metadata": {},
   "outputs": [
    {
     "data": {
      "text/plain": [
       "array([365, 355, 194,   0, 129, 220, 188,   6,  39, 314, 333,  46, 321,\n",
       "        12,  21, 249, 347, 364, 304, 233,  85,  75, 311,  67, 255, 284,\n",
       "       359, 269, 340,  22,  96, 345, 273, 309,  95, 215, 265, 192, 251,\n",
       "       302, 140, 234, 257,  30, 301, 294, 320, 154, 263, 180, 231, 297,\n",
       "       292, 191,  72, 362, 336, 116,  88, 224, 322, 324, 132, 295, 238,\n",
       "       209, 328,  38,   7, 272,  26, 288, 317, 207, 185, 158,   9, 198,\n",
       "       219, 342, 312, 243, 152, 137, 222, 346, 208, 279, 250, 164, 298,\n",
       "       260, 107, 199, 299,  20, 318, 216, 245, 189, 307, 310, 213, 278,\n",
       "        16, 178, 275, 163,  34, 280,   1, 170, 214, 248, 262, 339,  10,\n",
       "       290, 230,  53, 126,   3,  37, 353, 177, 246, 225,  18, 343, 326,\n",
       "       162, 240, 363, 247, 323, 125,  91, 286,  60,  58, 351, 201, 232,\n",
       "       258, 341, 244, 329, 253, 348,   2,  56,  68, 360,  76,  15, 226,\n",
       "       349,  11, 316, 281, 287,  14,  86, 261, 331,  51, 254, 103,  42,\n",
       "       325,  35, 203,   5, 276, 102,  71,  78,   8, 182,  79,  49, 156,\n",
       "       200, 106, 135,  81, 142, 179,  52, 237, 204, 181, 296, 335, 282,\n",
       "       274,  98, 157, 174, 223, 361, 283, 315,  36, 271, 139, 193, 136,\n",
       "       277, 221, 264, 236,  89,  23, 218, 235, 119, 350, 161, 259,  27,\n",
       "       167, 358,  59, 337,  43,  25, 127, 303, 115, 268,  44,  65, 252,\n",
       "        64, 111,  90, 338,  31, 241, 285, 183,  84, 166,  28,  83, 305,\n",
       "       356, 308, 229, 210, 153, 332, 120, 313,  69, 293,   4, 300,  40,\n",
       "       117, 206, 144, 354,  41, 270, 306,  33,  50,  80,  97, 118, 134,\n",
       "        17, 289, 121, 205,  74,  62,  29, 109, 168, 146, 242, 352, 155,\n",
       "       291, 266, 101, 190, 327, 217, 171, 110,  87, 202,  70, 147, 169,\n",
       "       212, 122, 330,  54, 196,  57,  73, 149, 239,  63, 195,  47, 319,\n",
       "        19, 112, 344,  77, 160, 141,  13,  24, 150, 128, 176, 357, 211,\n",
       "       172, 256, 165,  32, 105, 267, 148,  93,  45, 175, 159,  48, 100,\n",
       "       184, 114, 133, 186, 334,  94, 151, 228, 113,  55,  66, 173, 104,\n",
       "       197,  99, 131, 143, 124, 130, 187, 145, 108, 123,  92,  61, 138,\n",
       "       227,  82])"
      ]
     },
     "execution_count": 179,
     "metadata": {},
     "output_type": "execute_result"
    }
   ],
   "source": [
    "airbnb.availability_365.unique()"
   ]
  },
  {
   "cell_type": "markdown",
   "id": "ecd3fa17-0ef5-4f68-b71b-05cf85a33175",
   "metadata": {},
   "source": [
    "## 6. Cleaning Operations"
   ]
  },
  {
   "cell_type": "code",
   "execution_count": 180,
   "id": "39fbd20d-63f2-4d79-bec2-6031e17fb67a",
   "metadata": {},
   "outputs": [
    {
     "data": {
      "text/plain": [
       "Index(['id', 'name', 'host_id', 'host_name', 'neighbourhood_group',\n",
       "       'neighbourhood', 'latitude', 'longitude', 'room_type', 'price',\n",
       "       'minimum_nights', 'number_of_reviews', 'last_review',\n",
       "       'reviews_per_month', 'calculated_host_listings_count',\n",
       "       'availability_365'],\n",
       "      dtype='object')"
      ]
     },
     "execution_count": 180,
     "metadata": {},
     "output_type": "execute_result"
    }
   ],
   "source": [
    "airbnb.columns"
   ]
  },
  {
   "cell_type": "code",
   "execution_count": 181,
   "id": "515b6e05-2f0c-4336-8b89-e0e4f379c889",
   "metadata": {},
   "outputs": [
    {
     "data": {
      "text/plain": [
       "Index([21176, 47130, 48282, 48310, 23161, 25433, 25634, 25753, 25778, 25794,\n",
       "       ...\n",
       "       47957, 47973, 48043, 48145, 48205, 48312, 48325, 48368, 48446, 48784],\n",
       "      dtype='int64', length=536)"
      ]
     },
     "execution_count": 181,
     "metadata": {},
     "output_type": "execute_result"
    }
   ],
   "source": [
    "index_to_drop = (\n",
    "    airbnb\n",
    "    .loc[lambda df_: df_.name.str.contains(\n",
    "        r'\\b(?:yacht\\s+tour|yacht\\s+cruise|boat\\s+tour|events?\\s+listing|storage\\s+only|parking\\s+only)\\b',\n",
    "        case=False, na=False\n",
    "    )]\n",
    "    .index\n",
    ")\n",
    "index_to_drop = index_to_drop.append(airbnb.loc[lambda df_: df_.price.le(0)].index)\n",
    "index_to_drop = index_to_drop.append(airbnb.loc[lambda df_: df_.minimum_nights.gt(35)].index)\n",
    "index_to_drop"
   ]
  },
  {
   "cell_type": "code",
   "execution_count": 182,
   "id": "b4be02b2-c20a-43be-bc8b-95158cb74bd3",
   "metadata": {},
   "outputs": [
    {
     "data": {
      "text/html": [
       "<div>\n",
       "<style scoped>\n",
       "    .dataframe tbody tr th:only-of-type {\n",
       "        vertical-align: middle;\n",
       "    }\n",
       "\n",
       "    .dataframe tbody tr th {\n",
       "        vertical-align: top;\n",
       "    }\n",
       "\n",
       "    .dataframe thead th {\n",
       "        text-align: right;\n",
       "    }\n",
       "</style>\n",
       "<table border=\"1\" class=\"dataframe\">\n",
       "  <thead>\n",
       "    <tr style=\"text-align: right;\">\n",
       "      <th></th>\n",
       "      <th>neighbourhood_group</th>\n",
       "      <th>neighbourhood</th>\n",
       "      <th>latitude</th>\n",
       "      <th>longitude</th>\n",
       "      <th>room_type</th>\n",
       "      <th>price</th>\n",
       "      <th>minimum_nights</th>\n",
       "      <th>number_of_reviews</th>\n",
       "      <th>last_review</th>\n",
       "      <th>reviews_per_month</th>\n",
       "      <th>calculated_host_listings_count</th>\n",
       "      <th>availability_365</th>\n",
       "    </tr>\n",
       "  </thead>\n",
       "  <tbody>\n",
       "    <tr>\n",
       "      <th>0</th>\n",
       "      <td>Brooklyn</td>\n",
       "      <td>Kensington</td>\n",
       "      <td>40.64749</td>\n",
       "      <td>-73.97237</td>\n",
       "      <td>Private room</td>\n",
       "      <td>149</td>\n",
       "      <td>1</td>\n",
       "      <td>9</td>\n",
       "      <td>2018-10-19</td>\n",
       "      <td>0.21</td>\n",
       "      <td>6</td>\n",
       "      <td>365</td>\n",
       "    </tr>\n",
       "    <tr>\n",
       "      <th>1</th>\n",
       "      <td>Manhattan</td>\n",
       "      <td>Midtown</td>\n",
       "      <td>40.75362</td>\n",
       "      <td>-73.98377</td>\n",
       "      <td>Entire home/apt</td>\n",
       "      <td>225</td>\n",
       "      <td>1</td>\n",
       "      <td>45</td>\n",
       "      <td>2019-05-21</td>\n",
       "      <td>0.38</td>\n",
       "      <td>2</td>\n",
       "      <td>355</td>\n",
       "    </tr>\n",
       "    <tr>\n",
       "      <th>2</th>\n",
       "      <td>Manhattan</td>\n",
       "      <td>Harlem</td>\n",
       "      <td>40.80902</td>\n",
       "      <td>-73.94190</td>\n",
       "      <td>Private room</td>\n",
       "      <td>150</td>\n",
       "      <td>3</td>\n",
       "      <td>0</td>\n",
       "      <td>NaT</td>\n",
       "      <td>NaN</td>\n",
       "      <td>1</td>\n",
       "      <td>365</td>\n",
       "    </tr>\n",
       "    <tr>\n",
       "      <th>3</th>\n",
       "      <td>Brooklyn</td>\n",
       "      <td>Clinton Hill</td>\n",
       "      <td>40.68514</td>\n",
       "      <td>-73.95976</td>\n",
       "      <td>Entire home/apt</td>\n",
       "      <td>89</td>\n",
       "      <td>1</td>\n",
       "      <td>270</td>\n",
       "      <td>2019-07-05</td>\n",
       "      <td>4.64</td>\n",
       "      <td>1</td>\n",
       "      <td>194</td>\n",
       "    </tr>\n",
       "    <tr>\n",
       "      <th>4</th>\n",
       "      <td>Manhattan</td>\n",
       "      <td>East Harlem</td>\n",
       "      <td>40.79851</td>\n",
       "      <td>-73.94399</td>\n",
       "      <td>Entire home/apt</td>\n",
       "      <td>80</td>\n",
       "      <td>10</td>\n",
       "      <td>9</td>\n",
       "      <td>2018-11-19</td>\n",
       "      <td>0.10</td>\n",
       "      <td>1</td>\n",
       "      <td>0</td>\n",
       "    </tr>\n",
       "    <tr>\n",
       "      <th>...</th>\n",
       "      <td>...</td>\n",
       "      <td>...</td>\n",
       "      <td>...</td>\n",
       "      <td>...</td>\n",
       "      <td>...</td>\n",
       "      <td>...</td>\n",
       "      <td>...</td>\n",
       "      <td>...</td>\n",
       "      <td>...</td>\n",
       "      <td>...</td>\n",
       "      <td>...</td>\n",
       "      <td>...</td>\n",
       "    </tr>\n",
       "    <tr>\n",
       "      <th>48890</th>\n",
       "      <td>Brooklyn</td>\n",
       "      <td>Bedford-Stuyvesant</td>\n",
       "      <td>40.67853</td>\n",
       "      <td>-73.94995</td>\n",
       "      <td>Private room</td>\n",
       "      <td>70</td>\n",
       "      <td>2</td>\n",
       "      <td>0</td>\n",
       "      <td>NaT</td>\n",
       "      <td>NaN</td>\n",
       "      <td>2</td>\n",
       "      <td>9</td>\n",
       "    </tr>\n",
       "    <tr>\n",
       "      <th>48891</th>\n",
       "      <td>Brooklyn</td>\n",
       "      <td>Bushwick</td>\n",
       "      <td>40.70184</td>\n",
       "      <td>-73.93317</td>\n",
       "      <td>Private room</td>\n",
       "      <td>40</td>\n",
       "      <td>4</td>\n",
       "      <td>0</td>\n",
       "      <td>NaT</td>\n",
       "      <td>NaN</td>\n",
       "      <td>2</td>\n",
       "      <td>36</td>\n",
       "    </tr>\n",
       "    <tr>\n",
       "      <th>48892</th>\n",
       "      <td>Manhattan</td>\n",
       "      <td>Harlem</td>\n",
       "      <td>40.81475</td>\n",
       "      <td>-73.94867</td>\n",
       "      <td>Entire home/apt</td>\n",
       "      <td>115</td>\n",
       "      <td>10</td>\n",
       "      <td>0</td>\n",
       "      <td>NaT</td>\n",
       "      <td>NaN</td>\n",
       "      <td>1</td>\n",
       "      <td>27</td>\n",
       "    </tr>\n",
       "    <tr>\n",
       "      <th>48893</th>\n",
       "      <td>Manhattan</td>\n",
       "      <td>Hell's Kitchen</td>\n",
       "      <td>40.75751</td>\n",
       "      <td>-73.99112</td>\n",
       "      <td>Shared room</td>\n",
       "      <td>55</td>\n",
       "      <td>1</td>\n",
       "      <td>0</td>\n",
       "      <td>NaT</td>\n",
       "      <td>NaN</td>\n",
       "      <td>6</td>\n",
       "      <td>2</td>\n",
       "    </tr>\n",
       "    <tr>\n",
       "      <th>48894</th>\n",
       "      <td>Manhattan</td>\n",
       "      <td>Hell's Kitchen</td>\n",
       "      <td>40.76404</td>\n",
       "      <td>-73.98933</td>\n",
       "      <td>Private room</td>\n",
       "      <td>90</td>\n",
       "      <td>7</td>\n",
       "      <td>0</td>\n",
       "      <td>NaT</td>\n",
       "      <td>NaN</td>\n",
       "      <td>1</td>\n",
       "      <td>23</td>\n",
       "    </tr>\n",
       "  </tbody>\n",
       "</table>\n",
       "<p>48359 rows × 12 columns</p>\n",
       "</div>"
      ],
      "text/plain": [
       "      neighbourhood_group       neighbourhood  latitude  longitude  \\\n",
       "0                Brooklyn          Kensington  40.64749  -73.97237   \n",
       "1               Manhattan             Midtown  40.75362  -73.98377   \n",
       "2               Manhattan              Harlem  40.80902  -73.94190   \n",
       "3                Brooklyn        Clinton Hill  40.68514  -73.95976   \n",
       "4               Manhattan         East Harlem  40.79851  -73.94399   \n",
       "...                   ...                 ...       ...        ...   \n",
       "48890            Brooklyn  Bedford-Stuyvesant  40.67853  -73.94995   \n",
       "48891            Brooklyn            Bushwick  40.70184  -73.93317   \n",
       "48892           Manhattan              Harlem  40.81475  -73.94867   \n",
       "48893           Manhattan      Hell's Kitchen  40.75751  -73.99112   \n",
       "48894           Manhattan      Hell's Kitchen  40.76404  -73.98933   \n",
       "\n",
       "             room_type  price  minimum_nights  number_of_reviews last_review  \\\n",
       "0         Private room    149               1                  9  2018-10-19   \n",
       "1      Entire home/apt    225               1                 45  2019-05-21   \n",
       "2         Private room    150               3                  0         NaT   \n",
       "3      Entire home/apt     89               1                270  2019-07-05   \n",
       "4      Entire home/apt     80              10                  9  2018-11-19   \n",
       "...                ...    ...             ...                ...         ...   \n",
       "48890     Private room     70               2                  0         NaT   \n",
       "48891     Private room     40               4                  0         NaT   \n",
       "48892  Entire home/apt    115              10                  0         NaT   \n",
       "48893      Shared room     55               1                  0         NaT   \n",
       "48894     Private room     90               7                  0         NaT   \n",
       "\n",
       "       reviews_per_month  calculated_host_listings_count  availability_365  \n",
       "0                   0.21                               6               365  \n",
       "1                   0.38                               2               355  \n",
       "2                    NaN                               1               365  \n",
       "3                   4.64                               1               194  \n",
       "4                   0.10                               1                 0  \n",
       "...                  ...                             ...               ...  \n",
       "48890                NaN                               2                 9  \n",
       "48891                NaN                               2                36  \n",
       "48892                NaN                               1                27  \n",
       "48893                NaN                               6                 2  \n",
       "48894                NaN                               1                23  \n",
       "\n",
       "[48359 rows x 12 columns]"
      ]
     },
     "execution_count": 182,
     "metadata": {},
     "output_type": "execute_result"
    }
   ],
   "source": [
    "def clean_data(df):\n",
    "    return (\n",
    "        df\n",
    "        .drop(index=index_to_drop)\n",
    "        .assign(**{\n",
    "            col: df[col].str.strip()\n",
    "            for col in df.select_dtypes(include='O').columns\n",
    "        })\n",
    "        .drop(columns=['id', 'host_id', 'name', 'host_name'])\n",
    "        .assign(**{\n",
    "            col: df[col].astype('category')\n",
    "            for col in ['neighbourhood_group', 'room_type', 'neighbourhood']\n",
    "        })\n",
    "        .assign(\n",
    "            last_review=lambda df_: pd.to_datetime(df_.last_review, format='%Y-%m-%d')\n",
    "        )\n",
    "    )\n",
    "clean_data(airbnb)"
   ]
  },
  {
   "cell_type": "code",
   "execution_count": 183,
   "id": "ede0cbc5-2d9a-4f84-891d-2a2b5f814575",
   "metadata": {},
   "outputs": [
    {
     "name": "stdout",
     "output_type": "stream",
     "text": [
      "<class 'pandas.core.frame.DataFrame'>\n",
      "Index: 48359 entries, 0 to 48894\n",
      "Data columns (total 12 columns):\n",
      " #   Column                          Non-Null Count  Dtype         \n",
      "---  ------                          --------------  -----         \n",
      " 0   neighbourhood_group             48359 non-null  category      \n",
      " 1   neighbourhood                   48359 non-null  category      \n",
      " 2   latitude                        48359 non-null  float64       \n",
      " 3   longitude                       48359 non-null  float64       \n",
      " 4   room_type                       48359 non-null  category      \n",
      " 5   price                           48359 non-null  int64         \n",
      " 6   minimum_nights                  48359 non-null  int64         \n",
      " 7   number_of_reviews               48359 non-null  int64         \n",
      " 8   last_review                     38548 non-null  datetime64[ns]\n",
      " 9   reviews_per_month               38548 non-null  float64       \n",
      " 10  calculated_host_listings_count  48359 non-null  int64         \n",
      " 11  availability_365                48359 non-null  int64         \n",
      "dtypes: category(3), datetime64[ns](1), float64(3), int64(5)\n",
      "memory usage: 3.9 MB\n"
     ]
    }
   ],
   "source": [
    "airbnb_cleaned = clean_data(airbnb)\n",
    "airbnb_cleaned.info()"
   ]
  },
  {
   "cell_type": "markdown",
   "id": "ae0cb6a3-785c-458b-8b0c-5d57d50463c3",
   "metadata": {},
   "source": [
    "## 7. Split the Data"
   ]
  },
  {
   "cell_type": "code",
   "execution_count": 184,
   "id": "6a20c132-5a69-4baf-8d4d-1420fe4d4b14",
   "metadata": {},
   "outputs": [],
   "source": [
    "X = airbnb_cleaned.drop(columns='price')\n",
    "y = airbnb_cleaned.price.copy()"
   ]
  },
  {
   "cell_type": "code",
   "execution_count": 185,
   "id": "c8a5fe61-15a1-4da3-927a-c49563c2475b",
   "metadata": {},
   "outputs": [
    {
     "name": "stdout",
     "output_type": "stream",
     "text": [
      "(30949, 11) (30949,)\n",
      "(7738, 11) (7738,)\n",
      "(9672, 11) (9672,)\n"
     ]
    }
   ],
   "source": [
    "X_, X_test, y_, y_test = train_test_split(X, y, test_size=0.2, random_state=42)\n",
    "X_train, X_val, y_train, y_val = train_test_split(X_, y_, test_size=0.2, random_state=42)\n",
    "\n",
    "print(X_train.shape, y_train.shape)\n",
    "print(X_val.shape, y_val.shape)\n",
    "print(X_test.shape, y_test.shape)"
   ]
  },
  {
   "cell_type": "markdown",
   "id": "d5332b92-bebe-44a5-8218-066d031952e5",
   "metadata": {},
   "source": [
    "## 8. Export the Subsets"
   ]
  },
  {
   "cell_type": "code",
   "execution_count": 186,
   "id": "485eca9b-a7fb-4597-839c-d0a8246228c3",
   "metadata": {},
   "outputs": [],
   "source": [
    "def export_data(X, y, name):\n",
    "    file_name = f'{name}.csv'\n",
    "    file_path = os.path.join(PRO_DATA_DIR, file_name)\n",
    "    \n",
    "    X.join(y).to_csv(file_path, index=False)\n",
    "\n",
    "    return pd.read_csv(file_path).head()"
   ]
  },
  {
   "cell_type": "code",
   "execution_count": 187,
   "id": "73cbec01-f588-4804-9863-b3a66a61e236",
   "metadata": {},
   "outputs": [
    {
     "data": {
      "text/html": [
       "<div>\n",
       "<style scoped>\n",
       "    .dataframe tbody tr th:only-of-type {\n",
       "        vertical-align: middle;\n",
       "    }\n",
       "\n",
       "    .dataframe tbody tr th {\n",
       "        vertical-align: top;\n",
       "    }\n",
       "\n",
       "    .dataframe thead th {\n",
       "        text-align: right;\n",
       "    }\n",
       "</style>\n",
       "<table border=\"1\" class=\"dataframe\">\n",
       "  <thead>\n",
       "    <tr style=\"text-align: right;\">\n",
       "      <th></th>\n",
       "      <th>neighbourhood_group</th>\n",
       "      <th>neighbourhood</th>\n",
       "      <th>latitude</th>\n",
       "      <th>longitude</th>\n",
       "      <th>room_type</th>\n",
       "      <th>minimum_nights</th>\n",
       "      <th>number_of_reviews</th>\n",
       "      <th>last_review</th>\n",
       "      <th>reviews_per_month</th>\n",
       "      <th>calculated_host_listings_count</th>\n",
       "      <th>availability_365</th>\n",
       "      <th>price</th>\n",
       "    </tr>\n",
       "  </thead>\n",
       "  <tbody>\n",
       "    <tr>\n",
       "      <th>0</th>\n",
       "      <td>Manhattan</td>\n",
       "      <td>Washington Heights</td>\n",
       "      <td>40.84996</td>\n",
       "      <td>-73.93937</td>\n",
       "      <td>Private room</td>\n",
       "      <td>5</td>\n",
       "      <td>1</td>\n",
       "      <td>2016-05-28</td>\n",
       "      <td>0.03</td>\n",
       "      <td>1</td>\n",
       "      <td>0</td>\n",
       "      <td>50</td>\n",
       "    </tr>\n",
       "    <tr>\n",
       "      <th>1</th>\n",
       "      <td>Manhattan</td>\n",
       "      <td>Chinatown</td>\n",
       "      <td>40.71610</td>\n",
       "      <td>-73.99828</td>\n",
       "      <td>Entire home/apt</td>\n",
       "      <td>2</td>\n",
       "      <td>43</td>\n",
       "      <td>2019-01-03</td>\n",
       "      <td>1.32</td>\n",
       "      <td>1</td>\n",
       "      <td>0</td>\n",
       "      <td>140</td>\n",
       "    </tr>\n",
       "    <tr>\n",
       "      <th>2</th>\n",
       "      <td>Queens</td>\n",
       "      <td>Elmhurst</td>\n",
       "      <td>40.73088</td>\n",
       "      <td>-73.87488</td>\n",
       "      <td>Entire home/apt</td>\n",
       "      <td>2</td>\n",
       "      <td>47</td>\n",
       "      <td>2019-06-27</td>\n",
       "      <td>4.18</td>\n",
       "      <td>1</td>\n",
       "      <td>315</td>\n",
       "      <td>125</td>\n",
       "    </tr>\n",
       "    <tr>\n",
       "      <th>3</th>\n",
       "      <td>Manhattan</td>\n",
       "      <td>Harlem</td>\n",
       "      <td>40.82396</td>\n",
       "      <td>-73.94388</td>\n",
       "      <td>Entire home/apt</td>\n",
       "      <td>5</td>\n",
       "      <td>81</td>\n",
       "      <td>2019-06-09</td>\n",
       "      <td>1.48</td>\n",
       "      <td>3</td>\n",
       "      <td>303</td>\n",
       "      <td>450</td>\n",
       "    </tr>\n",
       "    <tr>\n",
       "      <th>4</th>\n",
       "      <td>Queens</td>\n",
       "      <td>Queens Village</td>\n",
       "      <td>40.72085</td>\n",
       "      <td>-73.74960</td>\n",
       "      <td>Entire home/apt</td>\n",
       "      <td>2</td>\n",
       "      <td>33</td>\n",
       "      <td>2019-06-30</td>\n",
       "      <td>3.60</td>\n",
       "      <td>1</td>\n",
       "      <td>282</td>\n",
       "      <td>68</td>\n",
       "    </tr>\n",
       "  </tbody>\n",
       "</table>\n",
       "</div>"
      ],
      "text/plain": [
       "  neighbourhood_group       neighbourhood  latitude  longitude  \\\n",
       "0           Manhattan  Washington Heights  40.84996  -73.93937   \n",
       "1           Manhattan           Chinatown  40.71610  -73.99828   \n",
       "2              Queens            Elmhurst  40.73088  -73.87488   \n",
       "3           Manhattan              Harlem  40.82396  -73.94388   \n",
       "4              Queens      Queens Village  40.72085  -73.74960   \n",
       "\n",
       "         room_type  minimum_nights  number_of_reviews last_review  \\\n",
       "0     Private room               5                  1  2016-05-28   \n",
       "1  Entire home/apt               2                 43  2019-01-03   \n",
       "2  Entire home/apt               2                 47  2019-06-27   \n",
       "3  Entire home/apt               5                 81  2019-06-09   \n",
       "4  Entire home/apt               2                 33  2019-06-30   \n",
       "\n",
       "   reviews_per_month  calculated_host_listings_count  availability_365  price  \n",
       "0               0.03                               1                 0     50  \n",
       "1               1.32                               1                 0    140  \n",
       "2               4.18                               1               315    125  \n",
       "3               1.48                               3               303    450  \n",
       "4               3.60                               1               282     68  "
      ]
     },
     "execution_count": 187,
     "metadata": {},
     "output_type": "execute_result"
    }
   ],
   "source": [
    "export_data(X_train, y_train, \"train\")"
   ]
  },
  {
   "cell_type": "code",
   "execution_count": 188,
   "id": "69cea0f4-0a98-439f-a79b-09d8e4352e02",
   "metadata": {},
   "outputs": [
    {
     "data": {
      "text/html": [
       "<div>\n",
       "<style scoped>\n",
       "    .dataframe tbody tr th:only-of-type {\n",
       "        vertical-align: middle;\n",
       "    }\n",
       "\n",
       "    .dataframe tbody tr th {\n",
       "        vertical-align: top;\n",
       "    }\n",
       "\n",
       "    .dataframe thead th {\n",
       "        text-align: right;\n",
       "    }\n",
       "</style>\n",
       "<table border=\"1\" class=\"dataframe\">\n",
       "  <thead>\n",
       "    <tr style=\"text-align: right;\">\n",
       "      <th></th>\n",
       "      <th>neighbourhood_group</th>\n",
       "      <th>neighbourhood</th>\n",
       "      <th>latitude</th>\n",
       "      <th>longitude</th>\n",
       "      <th>room_type</th>\n",
       "      <th>minimum_nights</th>\n",
       "      <th>number_of_reviews</th>\n",
       "      <th>last_review</th>\n",
       "      <th>reviews_per_month</th>\n",
       "      <th>calculated_host_listings_count</th>\n",
       "      <th>availability_365</th>\n",
       "      <th>price</th>\n",
       "    </tr>\n",
       "  </thead>\n",
       "  <tbody>\n",
       "    <tr>\n",
       "      <th>0</th>\n",
       "      <td>Manhattan</td>\n",
       "      <td>Chelsea</td>\n",
       "      <td>40.74170</td>\n",
       "      <td>-73.99780</td>\n",
       "      <td>Entire home/apt</td>\n",
       "      <td>3</td>\n",
       "      <td>31</td>\n",
       "      <td>2016-12-05</td>\n",
       "      <td>0.63</td>\n",
       "      <td>1</td>\n",
       "      <td>0</td>\n",
       "      <td>135</td>\n",
       "    </tr>\n",
       "    <tr>\n",
       "      <th>1</th>\n",
       "      <td>Queens</td>\n",
       "      <td>Astoria</td>\n",
       "      <td>40.76728</td>\n",
       "      <td>-73.90781</td>\n",
       "      <td>Entire home/apt</td>\n",
       "      <td>1</td>\n",
       "      <td>5</td>\n",
       "      <td>2019-07-07</td>\n",
       "      <td>5.00</td>\n",
       "      <td>1</td>\n",
       "      <td>65</td>\n",
       "      <td>95</td>\n",
       "    </tr>\n",
       "    <tr>\n",
       "      <th>2</th>\n",
       "      <td>Manhattan</td>\n",
       "      <td>Harlem</td>\n",
       "      <td>40.82349</td>\n",
       "      <td>-73.94053</td>\n",
       "      <td>Private room</td>\n",
       "      <td>2</td>\n",
       "      <td>10</td>\n",
       "      <td>2019-06-28</td>\n",
       "      <td>0.32</td>\n",
       "      <td>1</td>\n",
       "      <td>8</td>\n",
       "      <td>80</td>\n",
       "    </tr>\n",
       "    <tr>\n",
       "      <th>3</th>\n",
       "      <td>Brooklyn</td>\n",
       "      <td>Clinton Hill</td>\n",
       "      <td>40.69011</td>\n",
       "      <td>-73.96656</td>\n",
       "      <td>Private room</td>\n",
       "      <td>2</td>\n",
       "      <td>0</td>\n",
       "      <td>NaN</td>\n",
       "      <td>NaN</td>\n",
       "      <td>1</td>\n",
       "      <td>0</td>\n",
       "      <td>100</td>\n",
       "    </tr>\n",
       "    <tr>\n",
       "      <th>4</th>\n",
       "      <td>Manhattan</td>\n",
       "      <td>Upper West Side</td>\n",
       "      <td>40.80137</td>\n",
       "      <td>-73.96150</td>\n",
       "      <td>Private room</td>\n",
       "      <td>3</td>\n",
       "      <td>1</td>\n",
       "      <td>2016-07-06</td>\n",
       "      <td>0.03</td>\n",
       "      <td>1</td>\n",
       "      <td>0</td>\n",
       "      <td>80</td>\n",
       "    </tr>\n",
       "  </tbody>\n",
       "</table>\n",
       "</div>"
      ],
      "text/plain": [
       "  neighbourhood_group    neighbourhood  latitude  longitude        room_type  \\\n",
       "0           Manhattan          Chelsea  40.74170  -73.99780  Entire home/apt   \n",
       "1              Queens          Astoria  40.76728  -73.90781  Entire home/apt   \n",
       "2           Manhattan           Harlem  40.82349  -73.94053     Private room   \n",
       "3            Brooklyn     Clinton Hill  40.69011  -73.96656     Private room   \n",
       "4           Manhattan  Upper West Side  40.80137  -73.96150     Private room   \n",
       "\n",
       "   minimum_nights  number_of_reviews last_review  reviews_per_month  \\\n",
       "0               3                 31  2016-12-05               0.63   \n",
       "1               1                  5  2019-07-07               5.00   \n",
       "2               2                 10  2019-06-28               0.32   \n",
       "3               2                  0         NaN                NaN   \n",
       "4               3                  1  2016-07-06               0.03   \n",
       "\n",
       "   calculated_host_listings_count  availability_365  price  \n",
       "0                               1                 0    135  \n",
       "1                               1                65     95  \n",
       "2                               1                 8     80  \n",
       "3                               1                 0    100  \n",
       "4                               1                 0     80  "
      ]
     },
     "execution_count": 188,
     "metadata": {},
     "output_type": "execute_result"
    }
   ],
   "source": [
    "export_data(X_val, y_val, \"val\")"
   ]
  },
  {
   "cell_type": "code",
   "execution_count": 189,
   "id": "36aaf5d8-6c7f-4ea9-9d66-dc6619d27750",
   "metadata": {},
   "outputs": [
    {
     "data": {
      "text/html": [
       "<div>\n",
       "<style scoped>\n",
       "    .dataframe tbody tr th:only-of-type {\n",
       "        vertical-align: middle;\n",
       "    }\n",
       "\n",
       "    .dataframe tbody tr th {\n",
       "        vertical-align: top;\n",
       "    }\n",
       "\n",
       "    .dataframe thead th {\n",
       "        text-align: right;\n",
       "    }\n",
       "</style>\n",
       "<table border=\"1\" class=\"dataframe\">\n",
       "  <thead>\n",
       "    <tr style=\"text-align: right;\">\n",
       "      <th></th>\n",
       "      <th>neighbourhood_group</th>\n",
       "      <th>neighbourhood</th>\n",
       "      <th>latitude</th>\n",
       "      <th>longitude</th>\n",
       "      <th>room_type</th>\n",
       "      <th>minimum_nights</th>\n",
       "      <th>number_of_reviews</th>\n",
       "      <th>last_review</th>\n",
       "      <th>reviews_per_month</th>\n",
       "      <th>calculated_host_listings_count</th>\n",
       "      <th>availability_365</th>\n",
       "      <th>price</th>\n",
       "    </tr>\n",
       "  </thead>\n",
       "  <tbody>\n",
       "    <tr>\n",
       "      <th>0</th>\n",
       "      <td>Manhattan</td>\n",
       "      <td>Stuyvesant Town</td>\n",
       "      <td>40.73193</td>\n",
       "      <td>-73.97971</td>\n",
       "      <td>Private room</td>\n",
       "      <td>1</td>\n",
       "      <td>0</td>\n",
       "      <td>NaN</td>\n",
       "      <td>NaN</td>\n",
       "      <td>2</td>\n",
       "      <td>0</td>\n",
       "      <td>115</td>\n",
       "    </tr>\n",
       "    <tr>\n",
       "      <th>1</th>\n",
       "      <td>Manhattan</td>\n",
       "      <td>Upper East Side</td>\n",
       "      <td>40.78117</td>\n",
       "      <td>-73.95688</td>\n",
       "      <td>Private room</td>\n",
       "      <td>1</td>\n",
       "      <td>3</td>\n",
       "      <td>2019-03-15</td>\n",
       "      <td>0.28</td>\n",
       "      <td>1</td>\n",
       "      <td>90</td>\n",
       "      <td>105</td>\n",
       "    </tr>\n",
       "    <tr>\n",
       "      <th>2</th>\n",
       "      <td>Manhattan</td>\n",
       "      <td>Little Italy</td>\n",
       "      <td>40.71889</td>\n",
       "      <td>-73.99686</td>\n",
       "      <td>Entire home/apt</td>\n",
       "      <td>2</td>\n",
       "      <td>2</td>\n",
       "      <td>2019-03-10</td>\n",
       "      <td>0.19</td>\n",
       "      <td>2</td>\n",
       "      <td>3</td>\n",
       "      <td>400</td>\n",
       "    </tr>\n",
       "    <tr>\n",
       "      <th>3</th>\n",
       "      <td>Brooklyn</td>\n",
       "      <td>Bedford-Stuyvesant</td>\n",
       "      <td>40.68037</td>\n",
       "      <td>-73.93821</td>\n",
       "      <td>Private room</td>\n",
       "      <td>3</td>\n",
       "      <td>4</td>\n",
       "      <td>2018-07-29</td>\n",
       "      <td>0.28</td>\n",
       "      <td>1</td>\n",
       "      <td>0</td>\n",
       "      <td>44</td>\n",
       "    </tr>\n",
       "    <tr>\n",
       "      <th>4</th>\n",
       "      <td>Queens</td>\n",
       "      <td>Long Island City</td>\n",
       "      <td>40.75571</td>\n",
       "      <td>-73.93380</td>\n",
       "      <td>Private room</td>\n",
       "      <td>1</td>\n",
       "      <td>54</td>\n",
       "      <td>2019-06-22</td>\n",
       "      <td>2.54</td>\n",
       "      <td>9</td>\n",
       "      <td>265</td>\n",
       "      <td>55</td>\n",
       "    </tr>\n",
       "  </tbody>\n",
       "</table>\n",
       "</div>"
      ],
      "text/plain": [
       "  neighbourhood_group       neighbourhood  latitude  longitude  \\\n",
       "0           Manhattan     Stuyvesant Town  40.73193  -73.97971   \n",
       "1           Manhattan     Upper East Side  40.78117  -73.95688   \n",
       "2           Manhattan        Little Italy  40.71889  -73.99686   \n",
       "3            Brooklyn  Bedford-Stuyvesant  40.68037  -73.93821   \n",
       "4              Queens    Long Island City  40.75571  -73.93380   \n",
       "\n",
       "         room_type  minimum_nights  number_of_reviews last_review  \\\n",
       "0     Private room               1                  0         NaN   \n",
       "1     Private room               1                  3  2019-03-15   \n",
       "2  Entire home/apt               2                  2  2019-03-10   \n",
       "3     Private room               3                  4  2018-07-29   \n",
       "4     Private room               1                 54  2019-06-22   \n",
       "\n",
       "   reviews_per_month  calculated_host_listings_count  availability_365  price  \n",
       "0                NaN                               2                 0    115  \n",
       "1               0.28                               1                90    105  \n",
       "2               0.19                               2                 3    400  \n",
       "3               0.28                               1                 0     44  \n",
       "4               2.54                               9               265     55  "
      ]
     },
     "execution_count": 189,
     "metadata": {},
     "output_type": "execute_result"
    }
   ],
   "source": [
    "export_data(X_test, y_test, \"test\")"
   ]
  },
  {
   "cell_type": "code",
   "execution_count": 190,
   "id": "bff3e73a-7b4e-4f78-909b-4a505eb60c12",
   "metadata": {},
   "outputs": [
    {
     "data": {
      "text/html": [
       "<div>\n",
       "<style scoped>\n",
       "    .dataframe tbody tr th:only-of-type {\n",
       "        vertical-align: middle;\n",
       "    }\n",
       "\n",
       "    .dataframe tbody tr th {\n",
       "        vertical-align: top;\n",
       "    }\n",
       "\n",
       "    .dataframe thead th {\n",
       "        text-align: right;\n",
       "    }\n",
       "</style>\n",
       "<table border=\"1\" class=\"dataframe\">\n",
       "  <thead>\n",
       "    <tr style=\"text-align: right;\">\n",
       "      <th></th>\n",
       "      <th>neighbourhood_group</th>\n",
       "      <th>neighbourhood</th>\n",
       "      <th>latitude</th>\n",
       "      <th>longitude</th>\n",
       "      <th>room_type</th>\n",
       "      <th>minimum_nights</th>\n",
       "      <th>number_of_reviews</th>\n",
       "      <th>last_review</th>\n",
       "      <th>reviews_per_month</th>\n",
       "      <th>calculated_host_listings_count</th>\n",
       "      <th>availability_365</th>\n",
       "      <th>price</th>\n",
       "    </tr>\n",
       "  </thead>\n",
       "  <tbody>\n",
       "    <tr>\n",
       "      <th>0</th>\n",
       "      <td>Brooklyn</td>\n",
       "      <td>Kensington</td>\n",
       "      <td>40.64749</td>\n",
       "      <td>-73.97237</td>\n",
       "      <td>Private room</td>\n",
       "      <td>1</td>\n",
       "      <td>9</td>\n",
       "      <td>2018-10-19</td>\n",
       "      <td>0.21</td>\n",
       "      <td>6</td>\n",
       "      <td>365</td>\n",
       "      <td>149</td>\n",
       "    </tr>\n",
       "    <tr>\n",
       "      <th>1</th>\n",
       "      <td>Manhattan</td>\n",
       "      <td>Midtown</td>\n",
       "      <td>40.75362</td>\n",
       "      <td>-73.98377</td>\n",
       "      <td>Entire home/apt</td>\n",
       "      <td>1</td>\n",
       "      <td>45</td>\n",
       "      <td>2019-05-21</td>\n",
       "      <td>0.38</td>\n",
       "      <td>2</td>\n",
       "      <td>355</td>\n",
       "      <td>225</td>\n",
       "    </tr>\n",
       "    <tr>\n",
       "      <th>2</th>\n",
       "      <td>Manhattan</td>\n",
       "      <td>Harlem</td>\n",
       "      <td>40.80902</td>\n",
       "      <td>-73.94190</td>\n",
       "      <td>Private room</td>\n",
       "      <td>3</td>\n",
       "      <td>0</td>\n",
       "      <td>NaN</td>\n",
       "      <td>NaN</td>\n",
       "      <td>1</td>\n",
       "      <td>365</td>\n",
       "      <td>150</td>\n",
       "    </tr>\n",
       "    <tr>\n",
       "      <th>3</th>\n",
       "      <td>Brooklyn</td>\n",
       "      <td>Clinton Hill</td>\n",
       "      <td>40.68514</td>\n",
       "      <td>-73.95976</td>\n",
       "      <td>Entire home/apt</td>\n",
       "      <td>1</td>\n",
       "      <td>270</td>\n",
       "      <td>2019-07-05</td>\n",
       "      <td>4.64</td>\n",
       "      <td>1</td>\n",
       "      <td>194</td>\n",
       "      <td>89</td>\n",
       "    </tr>\n",
       "    <tr>\n",
       "      <th>4</th>\n",
       "      <td>Manhattan</td>\n",
       "      <td>East Harlem</td>\n",
       "      <td>40.79851</td>\n",
       "      <td>-73.94399</td>\n",
       "      <td>Entire home/apt</td>\n",
       "      <td>10</td>\n",
       "      <td>9</td>\n",
       "      <td>2018-11-19</td>\n",
       "      <td>0.10</td>\n",
       "      <td>1</td>\n",
       "      <td>0</td>\n",
       "      <td>80</td>\n",
       "    </tr>\n",
       "  </tbody>\n",
       "</table>\n",
       "</div>"
      ],
      "text/plain": [
       "  neighbourhood_group neighbourhood  latitude  longitude        room_type  \\\n",
       "0            Brooklyn    Kensington  40.64749  -73.97237     Private room   \n",
       "1           Manhattan       Midtown  40.75362  -73.98377  Entire home/apt   \n",
       "2           Manhattan        Harlem  40.80902  -73.94190     Private room   \n",
       "3            Brooklyn  Clinton Hill  40.68514  -73.95976  Entire home/apt   \n",
       "4           Manhattan   East Harlem  40.79851  -73.94399  Entire home/apt   \n",
       "\n",
       "   minimum_nights  number_of_reviews last_review  reviews_per_month  \\\n",
       "0               1                  9  2018-10-19               0.21   \n",
       "1               1                 45  2019-05-21               0.38   \n",
       "2               3                  0         NaN                NaN   \n",
       "3               1                270  2019-07-05               4.64   \n",
       "4              10                  9  2018-11-19               0.10   \n",
       "\n",
       "   calculated_host_listings_count  availability_365  price  \n",
       "0                               6               365    149  \n",
       "1                               2               355    225  \n",
       "2                               1               365    150  \n",
       "3                               1               194     89  \n",
       "4                               1                 0     80  "
      ]
     },
     "execution_count": 190,
     "metadata": {},
     "output_type": "execute_result"
    }
   ],
   "source": [
    "export_data(X, y, 'cleaned_full')"
   ]
  }
 ],
 "metadata": {
  "kernelspec": {
   "display_name": "ml_projects",
   "language": "python",
   "name": "ml_projects"
  },
  "language_info": {
   "codemirror_mode": {
    "name": "ipython",
    "version": 3
   },
   "file_extension": ".py",
   "mimetype": "text/x-python",
   "name": "python",
   "nbconvert_exporter": "python",
   "pygments_lexer": "ipython3",
   "version": "3.13.3"
  },
  "widgets": {
   "application/vnd.jupyter.widget-state+json": {
    "state": {},
    "version_major": 2,
    "version_minor": 0
   }
  }
 },
 "nbformat": 4,
 "nbformat_minor": 5
}
